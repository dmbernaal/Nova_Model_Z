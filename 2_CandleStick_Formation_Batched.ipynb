{
 "cells": [
  {
   "cell_type": "markdown",
   "metadata": {},
   "source": [
    "# Candlestick Formation\n",
    "In this notebook, we will take the data we have farmed via Bitfinex API and will be converting our data into candle-stick formation images. \n",
    "\n",
    "The very first part of this notebook will be to test the functionality with a small subset of the data. \n",
    "\n",
    "Then we will form both a window & label algorithm which will be used to create window images labelled for our classification task. \n",
    "\n",
    "Each window will be composed of 15, 30 min intervals which will be labeled according to the 20th (5 points preceeding our window) opening price. \n",
    "\n",
    "That is: \n",
    "\n",
    "```python\n",
    "if open_of_20th > close_of_15th_by_3_percent:\n",
    "    label = 'buy'\n",
    "elif open_of_20th < close_of_15th:\n",
    "    label = 'sell'\n",
    "else:\n",
    "    label = 'hold'\n",
    "```\n",
    "\n",
    "Given the nature of BTC/USD and most cryptocurrencies, labeling with aggresive moves may be a good strategy.\n",
    "\n",
    "In fact, our labeling algorithm will greatly impact the overall trading strategy, thus we may revisit this in the future for optimization. "
   ]
  },
  {
   "cell_type": "markdown",
   "metadata": {},
   "source": [
    "## 30min DATA"
   ]
  },
  {
   "cell_type": "code",
   "execution_count": 1,
   "metadata": {},
   "outputs": [],
   "source": [
    "from tqdm import tqdm\n",
    "import pandas as pd\n",
    "import numpy as np\n",
    "import os\n",
    "import matplotlib.pyplot as plt\n",
    "import gc\n",
    "\n",
    "from mpl_finance import candlestick_ohlc\n",
    "import matplotlib.dates as mdates\n",
    "from pandas.plotting import register_matplotlib_converters\n",
    "register_matplotlib_converters()\n",
    "\n",
    "from time import sleep\n",
    "import multiprocessing as mp"
   ]
  },
  {
   "cell_type": "code",
   "execution_count": 2,
   "metadata": {},
   "outputs": [],
   "source": [
    "# Loading our data\n",
    "file = './post_processing/btcusd_ohlc_2017_2019.csv'\n",
    "\n",
    "headers = ['date', 'open', 'close', 'high', 'low', 'volume']\n",
    "my_dtypes = {\n",
    "    'date': 'str',\n",
    "    'open': 'float',\n",
    "    'close': 'float',\n",
    "    'high': 'float',\n",
    "    'low': 'float',\n",
    "    'volume': 'float'\n",
    "}\n",
    "\n",
    "my_parse_dates = ['date']\n",
    "\n",
    "df = pd.read_csv(file, header=0, names=headers, dtype=my_dtypes, parse_dates=my_parse_dates)\n",
    "\n",
    "# Re-arranging columns for OHLC\n",
    "df = df[['date', 'open', 'high', 'low', 'close', 'volume']]"
   ]
  },
  {
   "cell_type": "code",
   "execution_count": 3,
   "metadata": {},
   "outputs": [
    {
     "data": {
      "text/html": [
       "<div>\n",
       "<style scoped>\n",
       "    .dataframe tbody tr th:only-of-type {\n",
       "        vertical-align: middle;\n",
       "    }\n",
       "\n",
       "    .dataframe tbody tr th {\n",
       "        vertical-align: top;\n",
       "    }\n",
       "\n",
       "    .dataframe thead th {\n",
       "        text-align: right;\n",
       "    }\n",
       "</style>\n",
       "<table border=\"1\" class=\"dataframe\">\n",
       "  <thead>\n",
       "    <tr style=\"text-align: right;\">\n",
       "      <th></th>\n",
       "      <th>date</th>\n",
       "      <th>open</th>\n",
       "      <th>high</th>\n",
       "      <th>low</th>\n",
       "      <th>close</th>\n",
       "      <th>volume</th>\n",
       "    </tr>\n",
       "  </thead>\n",
       "  <tbody>\n",
       "    <tr>\n",
       "      <th>0</th>\n",
       "      <td>2017-01-01 05:00:00</td>\n",
       "      <td>962.98</td>\n",
       "      <td>963.00</td>\n",
       "      <td>962.11</td>\n",
       "      <td>962.98</td>\n",
       "      <td>29.466950</td>\n",
       "    </tr>\n",
       "    <tr>\n",
       "      <th>1</th>\n",
       "      <td>2017-01-01 05:30:00</td>\n",
       "      <td>962.90</td>\n",
       "      <td>965.20</td>\n",
       "      <td>962.56</td>\n",
       "      <td>964.88</td>\n",
       "      <td>61.575102</td>\n",
       "    </tr>\n",
       "    <tr>\n",
       "      <th>2</th>\n",
       "      <td>2017-01-01 06:00:00</td>\n",
       "      <td>963.90</td>\n",
       "      <td>964.95</td>\n",
       "      <td>962.72</td>\n",
       "      <td>962.83</td>\n",
       "      <td>27.068546</td>\n",
       "    </tr>\n",
       "    <tr>\n",
       "      <th>3</th>\n",
       "      <td>2017-01-01 06:30:00</td>\n",
       "      <td>963.49</td>\n",
       "      <td>967.45</td>\n",
       "      <td>963.36</td>\n",
       "      <td>967.45</td>\n",
       "      <td>78.595934</td>\n",
       "    </tr>\n",
       "    <tr>\n",
       "      <th>4</th>\n",
       "      <td>2017-01-01 07:00:00</td>\n",
       "      <td>966.48</td>\n",
       "      <td>967.41</td>\n",
       "      <td>966.48</td>\n",
       "      <td>966.67</td>\n",
       "      <td>21.279508</td>\n",
       "    </tr>\n",
       "  </tbody>\n",
       "</table>\n",
       "</div>"
      ],
      "text/plain": [
       "                 date    open    high     low   close     volume\n",
       "0 2017-01-01 05:00:00  962.98  963.00  962.11  962.98  29.466950\n",
       "1 2017-01-01 05:30:00  962.90  965.20  962.56  964.88  61.575102\n",
       "2 2017-01-01 06:00:00  963.90  964.95  962.72  962.83  27.068546\n",
       "3 2017-01-01 06:30:00  963.49  967.45  963.36  967.45  78.595934\n",
       "4 2017-01-01 07:00:00  966.48  967.41  966.48  966.67  21.279508"
      ]
     },
     "execution_count": 3,
     "metadata": {},
     "output_type": "execute_result"
    }
   ],
   "source": [
    "df.head()"
   ]
  },
  {
   "cell_type": "code",
   "execution_count": 4,
   "metadata": {},
   "outputs": [
    {
     "data": {
      "text/html": [
       "<div>\n",
       "<style scoped>\n",
       "    .dataframe tbody tr th:only-of-type {\n",
       "        vertical-align: middle;\n",
       "    }\n",
       "\n",
       "    .dataframe tbody tr th {\n",
       "        vertical-align: top;\n",
       "    }\n",
       "\n",
       "    .dataframe thead th {\n",
       "        text-align: right;\n",
       "    }\n",
       "</style>\n",
       "<table border=\"1\" class=\"dataframe\">\n",
       "  <thead>\n",
       "    <tr style=\"text-align: right;\">\n",
       "      <th></th>\n",
       "      <th>date</th>\n",
       "      <th>open</th>\n",
       "      <th>high</th>\n",
       "      <th>low</th>\n",
       "      <th>close</th>\n",
       "      <th>volume</th>\n",
       "    </tr>\n",
       "  </thead>\n",
       "  <tbody>\n",
       "    <tr>\n",
       "      <th>40779</th>\n",
       "      <td>2019-05-01 02:00:00</td>\n",
       "      <td>5619.370256</td>\n",
       "      <td>5643.0</td>\n",
       "      <td>5619.258079</td>\n",
       "      <td>5632.20000</td>\n",
       "      <td>289.576023</td>\n",
       "    </tr>\n",
       "    <tr>\n",
       "      <th>40780</th>\n",
       "      <td>2019-05-01 02:30:00</td>\n",
       "      <td>5632.300000</td>\n",
       "      <td>5632.3</td>\n",
       "      <td>5620.600000</td>\n",
       "      <td>5620.60000</td>\n",
       "      <td>84.910372</td>\n",
       "    </tr>\n",
       "    <tr>\n",
       "      <th>40781</th>\n",
       "      <td>2019-05-01 03:00:00</td>\n",
       "      <td>5622.300000</td>\n",
       "      <td>5629.7</td>\n",
       "      <td>5615.100000</td>\n",
       "      <td>5619.30000</td>\n",
       "      <td>50.869072</td>\n",
       "    </tr>\n",
       "    <tr>\n",
       "      <th>40782</th>\n",
       "      <td>2019-05-01 03:30:00</td>\n",
       "      <td>5619.300000</td>\n",
       "      <td>5623.0</td>\n",
       "      <td>5591.900000</td>\n",
       "      <td>5619.10000</td>\n",
       "      <td>229.368454</td>\n",
       "    </tr>\n",
       "    <tr>\n",
       "      <th>40783</th>\n",
       "      <td>2019-05-01 04:00:00</td>\n",
       "      <td>5619.100000</td>\n",
       "      <td>5625.1</td>\n",
       "      <td>5615.700000</td>\n",
       "      <td>5625.08833</td>\n",
       "      <td>66.739223</td>\n",
       "    </tr>\n",
       "  </tbody>\n",
       "</table>\n",
       "</div>"
      ],
      "text/plain": [
       "                     date         open    high          low       close  \\\n",
       "40779 2019-05-01 02:00:00  5619.370256  5643.0  5619.258079  5632.20000   \n",
       "40780 2019-05-01 02:30:00  5632.300000  5632.3  5620.600000  5620.60000   \n",
       "40781 2019-05-01 03:00:00  5622.300000  5629.7  5615.100000  5619.30000   \n",
       "40782 2019-05-01 03:30:00  5619.300000  5623.0  5591.900000  5619.10000   \n",
       "40783 2019-05-01 04:00:00  5619.100000  5625.1  5615.700000  5625.08833   \n",
       "\n",
       "           volume  \n",
       "40779  289.576023  \n",
       "40780   84.910372  \n",
       "40781   50.869072  \n",
       "40782  229.368454  \n",
       "40783   66.739223  "
      ]
     },
     "execution_count": 4,
     "metadata": {},
     "output_type": "execute_result"
    }
   ],
   "source": [
    "df.tail()"
   ]
  },
  {
   "cell_type": "code",
   "execution_count": 5,
   "metadata": {},
   "outputs": [],
   "source": [
    "# setting date to datetime\n",
    "df['date'] = pd.to_datetime(df['date'])"
   ]
  },
  {
   "cell_type": "code",
   "execution_count": 6,
   "metadata": {},
   "outputs": [],
   "source": [
    "# # Setting our date as the index to extract data from 2017-2019 only\n",
    "# df.set_index('date', inplace=True)"
   ]
  },
  {
   "cell_type": "code",
   "execution_count": 7,
   "metadata": {},
   "outputs": [
    {
     "data": {
      "text/html": [
       "<div>\n",
       "<style scoped>\n",
       "    .dataframe tbody tr th:only-of-type {\n",
       "        vertical-align: middle;\n",
       "    }\n",
       "\n",
       "    .dataframe tbody tr th {\n",
       "        vertical-align: top;\n",
       "    }\n",
       "\n",
       "    .dataframe thead th {\n",
       "        text-align: right;\n",
       "    }\n",
       "</style>\n",
       "<table border=\"1\" class=\"dataframe\">\n",
       "  <thead>\n",
       "    <tr style=\"text-align: right;\">\n",
       "      <th></th>\n",
       "      <th>date</th>\n",
       "      <th>open</th>\n",
       "      <th>high</th>\n",
       "      <th>low</th>\n",
       "      <th>close</th>\n",
       "      <th>volume</th>\n",
       "    </tr>\n",
       "  </thead>\n",
       "  <tbody>\n",
       "    <tr>\n",
       "      <th>0</th>\n",
       "      <td>2017-01-01 05:00:00</td>\n",
       "      <td>962.98</td>\n",
       "      <td>963.00</td>\n",
       "      <td>962.11</td>\n",
       "      <td>962.98</td>\n",
       "      <td>29.466950</td>\n",
       "    </tr>\n",
       "    <tr>\n",
       "      <th>1</th>\n",
       "      <td>2017-01-01 05:30:00</td>\n",
       "      <td>962.90</td>\n",
       "      <td>965.20</td>\n",
       "      <td>962.56</td>\n",
       "      <td>964.88</td>\n",
       "      <td>61.575102</td>\n",
       "    </tr>\n",
       "    <tr>\n",
       "      <th>2</th>\n",
       "      <td>2017-01-01 06:00:00</td>\n",
       "      <td>963.90</td>\n",
       "      <td>964.95</td>\n",
       "      <td>962.72</td>\n",
       "      <td>962.83</td>\n",
       "      <td>27.068546</td>\n",
       "    </tr>\n",
       "    <tr>\n",
       "      <th>3</th>\n",
       "      <td>2017-01-01 06:30:00</td>\n",
       "      <td>963.49</td>\n",
       "      <td>967.45</td>\n",
       "      <td>963.36</td>\n",
       "      <td>967.45</td>\n",
       "      <td>78.595934</td>\n",
       "    </tr>\n",
       "    <tr>\n",
       "      <th>4</th>\n",
       "      <td>2017-01-01 07:00:00</td>\n",
       "      <td>966.48</td>\n",
       "      <td>967.41</td>\n",
       "      <td>966.48</td>\n",
       "      <td>966.67</td>\n",
       "      <td>21.279508</td>\n",
       "    </tr>\n",
       "  </tbody>\n",
       "</table>\n",
       "</div>"
      ],
      "text/plain": [
       "                 date    open    high     low   close     volume\n",
       "0 2017-01-01 05:00:00  962.98  963.00  962.11  962.98  29.466950\n",
       "1 2017-01-01 05:30:00  962.90  965.20  962.56  964.88  61.575102\n",
       "2 2017-01-01 06:00:00  963.90  964.95  962.72  962.83  27.068546\n",
       "3 2017-01-01 06:30:00  963.49  967.45  963.36  967.45  78.595934\n",
       "4 2017-01-01 07:00:00  966.48  967.41  966.48  966.67  21.279508"
      ]
     },
     "execution_count": 7,
     "metadata": {},
     "output_type": "execute_result"
    }
   ],
   "source": [
    "df.head()"
   ]
  },
  {
   "cell_type": "code",
   "execution_count": 8,
   "metadata": {},
   "outputs": [],
   "source": [
    "# our mask filter\n",
    "mask = (df['date'] > \"2017-1-01\") & (df['date'] < '2019-1-01')"
   ]
  },
  {
   "cell_type": "code",
   "execution_count": 9,
   "metadata": {},
   "outputs": [],
   "source": [
    "# filtering\n",
    "df = df.loc[mask]"
   ]
  },
  {
   "cell_type": "code",
   "execution_count": 10,
   "metadata": {},
   "outputs": [
    {
     "data": {
      "text/html": [
       "<div>\n",
       "<style scoped>\n",
       "    .dataframe tbody tr th:only-of-type {\n",
       "        vertical-align: middle;\n",
       "    }\n",
       "\n",
       "    .dataframe tbody tr th {\n",
       "        vertical-align: top;\n",
       "    }\n",
       "\n",
       "    .dataframe thead th {\n",
       "        text-align: right;\n",
       "    }\n",
       "</style>\n",
       "<table border=\"1\" class=\"dataframe\">\n",
       "  <thead>\n",
       "    <tr style=\"text-align: right;\">\n",
       "      <th></th>\n",
       "      <th>date</th>\n",
       "      <th>open</th>\n",
       "      <th>high</th>\n",
       "      <th>low</th>\n",
       "      <th>close</th>\n",
       "      <th>volume</th>\n",
       "    </tr>\n",
       "  </thead>\n",
       "  <tbody>\n",
       "    <tr>\n",
       "      <th>0</th>\n",
       "      <td>2017-01-01 05:00:00</td>\n",
       "      <td>962.98</td>\n",
       "      <td>963.00</td>\n",
       "      <td>962.11</td>\n",
       "      <td>962.98</td>\n",
       "      <td>29.466950</td>\n",
       "    </tr>\n",
       "    <tr>\n",
       "      <th>1</th>\n",
       "      <td>2017-01-01 05:30:00</td>\n",
       "      <td>962.90</td>\n",
       "      <td>965.20</td>\n",
       "      <td>962.56</td>\n",
       "      <td>964.88</td>\n",
       "      <td>61.575102</td>\n",
       "    </tr>\n",
       "    <tr>\n",
       "      <th>2</th>\n",
       "      <td>2017-01-01 06:00:00</td>\n",
       "      <td>963.90</td>\n",
       "      <td>964.95</td>\n",
       "      <td>962.72</td>\n",
       "      <td>962.83</td>\n",
       "      <td>27.068546</td>\n",
       "    </tr>\n",
       "  </tbody>\n",
       "</table>\n",
       "</div>"
      ],
      "text/plain": [
       "                 date    open    high     low   close     volume\n",
       "0 2017-01-01 05:00:00  962.98  963.00  962.11  962.98  29.466950\n",
       "1 2017-01-01 05:30:00  962.90  965.20  962.56  964.88  61.575102\n",
       "2 2017-01-01 06:00:00  963.90  964.95  962.72  962.83  27.068546"
      ]
     },
     "execution_count": 10,
     "metadata": {},
     "output_type": "execute_result"
    }
   ],
   "source": [
    "df.head(3)"
   ]
  },
  {
   "cell_type": "code",
   "execution_count": 11,
   "metadata": {},
   "outputs": [
    {
     "data": {
      "text/html": [
       "<div>\n",
       "<style scoped>\n",
       "    .dataframe tbody tr th:only-of-type {\n",
       "        vertical-align: middle;\n",
       "    }\n",
       "\n",
       "    .dataframe tbody tr th {\n",
       "        vertical-align: top;\n",
       "    }\n",
       "\n",
       "    .dataframe thead th {\n",
       "        text-align: right;\n",
       "    }\n",
       "</style>\n",
       "<table border=\"1\" class=\"dataframe\">\n",
       "  <thead>\n",
       "    <tr style=\"text-align: right;\">\n",
       "      <th></th>\n",
       "      <th>date</th>\n",
       "      <th>open</th>\n",
       "      <th>high</th>\n",
       "      <th>low</th>\n",
       "      <th>close</th>\n",
       "      <th>volume</th>\n",
       "    </tr>\n",
       "  </thead>\n",
       "  <tbody>\n",
       "    <tr>\n",
       "      <th>35023</th>\n",
       "      <td>2018-12-31 22:30:00</td>\n",
       "      <td>3812.3</td>\n",
       "      <td>3833.0</td>\n",
       "      <td>3812.200000</td>\n",
       "      <td>3829.7</td>\n",
       "      <td>218.647193</td>\n",
       "    </tr>\n",
       "    <tr>\n",
       "      <th>35024</th>\n",
       "      <td>2018-12-31 23:00:00</td>\n",
       "      <td>3829.2</td>\n",
       "      <td>3839.9</td>\n",
       "      <td>3822.400000</td>\n",
       "      <td>3834.1</td>\n",
       "      <td>155.449818</td>\n",
       "    </tr>\n",
       "    <tr>\n",
       "      <th>35025</th>\n",
       "      <td>2018-12-31 23:30:00</td>\n",
       "      <td>3834.1</td>\n",
       "      <td>3834.1</td>\n",
       "      <td>3819.904507</td>\n",
       "      <td>3830.5</td>\n",
       "      <td>84.687002</td>\n",
       "    </tr>\n",
       "  </tbody>\n",
       "</table>\n",
       "</div>"
      ],
      "text/plain": [
       "                     date    open    high          low   close      volume\n",
       "35023 2018-12-31 22:30:00  3812.3  3833.0  3812.200000  3829.7  218.647193\n",
       "35024 2018-12-31 23:00:00  3829.2  3839.9  3822.400000  3834.1  155.449818\n",
       "35025 2018-12-31 23:30:00  3834.1  3834.1  3819.904507  3830.5   84.687002"
      ]
     },
     "execution_count": 11,
     "metadata": {},
     "output_type": "execute_result"
    }
   ],
   "source": [
    "df.tail(3)"
   ]
  },
  {
   "cell_type": "code",
   "execution_count": 12,
   "metadata": {},
   "outputs": [
    {
     "name": "stdout",
     "output_type": "stream",
     "text": [
      "<class 'pandas.core.frame.DataFrame'>\n",
      "Int64Index: 35026 entries, 0 to 35025\n",
      "Data columns (total 6 columns):\n",
      "date      35026 non-null datetime64[ns]\n",
      "open      35026 non-null float64\n",
      "high      35026 non-null float64\n",
      "low       35026 non-null float64\n",
      "close     35026 non-null float64\n",
      "volume    35026 non-null float64\n",
      "dtypes: datetime64[ns](1), float64(5)\n",
      "memory usage: 1.9 MB\n"
     ]
    }
   ],
   "source": [
    "df.info()"
   ]
  },
  {
   "cell_type": "code",
   "execution_count": 13,
   "metadata": {},
   "outputs": [
    {
     "data": {
      "text/plain": [
       "17513.0"
      ]
     },
     "execution_count": 13,
     "metadata": {},
     "output_type": "execute_result"
    }
   ],
   "source": [
    "batch_size = len(df) / 2\n",
    "batch_size"
   ]
  },
  {
   "cell_type": "code",
   "execution_count": 14,
   "metadata": {},
   "outputs": [
    {
     "data": {
      "text/plain": [
       "35026"
      ]
     },
     "execution_count": 14,
     "metadata": {},
     "output_type": "execute_result"
    }
   ],
   "source": [
    "len(df)"
   ]
  },
  {
   "cell_type": "code",
   "execution_count": 15,
   "metadata": {},
   "outputs": [],
   "source": [
    "# Splitting our DF into two batches\n",
    "df1 = df.iloc[:int(batch_size)].copy()\n",
    "df2 = df.iloc[int(batch_size):].copy()"
   ]
  },
  {
   "cell_type": "code",
   "execution_count": 16,
   "metadata": {},
   "outputs": [
    {
     "data": {
      "text/html": [
       "<div>\n",
       "<style scoped>\n",
       "    .dataframe tbody tr th:only-of-type {\n",
       "        vertical-align: middle;\n",
       "    }\n",
       "\n",
       "    .dataframe tbody tr th {\n",
       "        vertical-align: top;\n",
       "    }\n",
       "\n",
       "    .dataframe thead th {\n",
       "        text-align: right;\n",
       "    }\n",
       "</style>\n",
       "<table border=\"1\" class=\"dataframe\">\n",
       "  <thead>\n",
       "    <tr style=\"text-align: right;\">\n",
       "      <th></th>\n",
       "      <th>date</th>\n",
       "      <th>open</th>\n",
       "      <th>high</th>\n",
       "      <th>low</th>\n",
       "      <th>close</th>\n",
       "      <th>volume</th>\n",
       "    </tr>\n",
       "  </thead>\n",
       "  <tbody>\n",
       "    <tr>\n",
       "      <th>0</th>\n",
       "      <td>2017-01-01 05:00:00</td>\n",
       "      <td>962.98</td>\n",
       "      <td>963.0</td>\n",
       "      <td>962.11</td>\n",
       "      <td>962.98</td>\n",
       "      <td>29.466950</td>\n",
       "    </tr>\n",
       "    <tr>\n",
       "      <th>1</th>\n",
       "      <td>2017-01-01 05:30:00</td>\n",
       "      <td>962.90</td>\n",
       "      <td>965.2</td>\n",
       "      <td>962.56</td>\n",
       "      <td>964.88</td>\n",
       "      <td>61.575102</td>\n",
       "    </tr>\n",
       "  </tbody>\n",
       "</table>\n",
       "</div>"
      ],
      "text/plain": [
       "                 date    open   high     low   close     volume\n",
       "0 2017-01-01 05:00:00  962.98  963.0  962.11  962.98  29.466950\n",
       "1 2017-01-01 05:30:00  962.90  965.2  962.56  964.88  61.575102"
      ]
     },
     "execution_count": 16,
     "metadata": {},
     "output_type": "execute_result"
    }
   ],
   "source": [
    "df1.head(2)"
   ]
  },
  {
   "cell_type": "code",
   "execution_count": 17,
   "metadata": {},
   "outputs": [
    {
     "data": {
      "text/html": [
       "<div>\n",
       "<style scoped>\n",
       "    .dataframe tbody tr th:only-of-type {\n",
       "        vertical-align: middle;\n",
       "    }\n",
       "\n",
       "    .dataframe tbody tr th {\n",
       "        vertical-align: top;\n",
       "    }\n",
       "\n",
       "    .dataframe thead th {\n",
       "        text-align: right;\n",
       "    }\n",
       "</style>\n",
       "<table border=\"1\" class=\"dataframe\">\n",
       "  <thead>\n",
       "    <tr style=\"text-align: right;\">\n",
       "      <th></th>\n",
       "      <th>date</th>\n",
       "      <th>open</th>\n",
       "      <th>high</th>\n",
       "      <th>low</th>\n",
       "      <th>close</th>\n",
       "      <th>volume</th>\n",
       "    </tr>\n",
       "  </thead>\n",
       "  <tbody>\n",
       "    <tr>\n",
       "      <th>17511</th>\n",
       "      <td>2018-01-01 01:00:00</td>\n",
       "      <td>13621.0</td>\n",
       "      <td>13655.0</td>\n",
       "      <td>13505.0</td>\n",
       "      <td>13610.0</td>\n",
       "      <td>311.082200</td>\n",
       "    </tr>\n",
       "    <tr>\n",
       "      <th>17512</th>\n",
       "      <td>2018-01-01 01:30:00</td>\n",
       "      <td>13610.0</td>\n",
       "      <td>13631.0</td>\n",
       "      <td>13251.0</td>\n",
       "      <td>13281.0</td>\n",
       "      <td>1099.627958</td>\n",
       "    </tr>\n",
       "  </tbody>\n",
       "</table>\n",
       "</div>"
      ],
      "text/plain": [
       "                     date     open     high      low    close       volume\n",
       "17511 2018-01-01 01:00:00  13621.0  13655.0  13505.0  13610.0   311.082200\n",
       "17512 2018-01-01 01:30:00  13610.0  13631.0  13251.0  13281.0  1099.627958"
      ]
     },
     "execution_count": 17,
     "metadata": {},
     "output_type": "execute_result"
    }
   ],
   "source": [
    "df1.tail(2)"
   ]
  },
  {
   "cell_type": "code",
   "execution_count": 18,
   "metadata": {},
   "outputs": [
    {
     "data": {
      "text/html": [
       "<div>\n",
       "<style scoped>\n",
       "    .dataframe tbody tr th:only-of-type {\n",
       "        vertical-align: middle;\n",
       "    }\n",
       "\n",
       "    .dataframe tbody tr th {\n",
       "        vertical-align: top;\n",
       "    }\n",
       "\n",
       "    .dataframe thead th {\n",
       "        text-align: right;\n",
       "    }\n",
       "</style>\n",
       "<table border=\"1\" class=\"dataframe\">\n",
       "  <thead>\n",
       "    <tr style=\"text-align: right;\">\n",
       "      <th></th>\n",
       "      <th>date</th>\n",
       "      <th>open</th>\n",
       "      <th>high</th>\n",
       "      <th>low</th>\n",
       "      <th>close</th>\n",
       "      <th>volume</th>\n",
       "    </tr>\n",
       "  </thead>\n",
       "  <tbody>\n",
       "    <tr>\n",
       "      <th>17513</th>\n",
       "      <td>2018-01-01 02:00:00</td>\n",
       "      <td>13280.0</td>\n",
       "      <td>13440.0</td>\n",
       "      <td>13251.0</td>\n",
       "      <td>13273.0</td>\n",
       "      <td>704.089059</td>\n",
       "    </tr>\n",
       "    <tr>\n",
       "      <th>17514</th>\n",
       "      <td>2018-01-01 02:30:00</td>\n",
       "      <td>13260.0</td>\n",
       "      <td>13398.0</td>\n",
       "      <td>13214.0</td>\n",
       "      <td>13362.0</td>\n",
       "      <td>523.346695</td>\n",
       "    </tr>\n",
       "  </tbody>\n",
       "</table>\n",
       "</div>"
      ],
      "text/plain": [
       "                     date     open     high      low    close      volume\n",
       "17513 2018-01-01 02:00:00  13280.0  13440.0  13251.0  13273.0  704.089059\n",
       "17514 2018-01-01 02:30:00  13260.0  13398.0  13214.0  13362.0  523.346695"
      ]
     },
     "execution_count": 18,
     "metadata": {},
     "output_type": "execute_result"
    }
   ],
   "source": [
    "df2.head(2)"
   ]
  },
  {
   "cell_type": "code",
   "execution_count": 19,
   "metadata": {},
   "outputs": [
    {
     "data": {
      "text/html": [
       "<div>\n",
       "<style scoped>\n",
       "    .dataframe tbody tr th:only-of-type {\n",
       "        vertical-align: middle;\n",
       "    }\n",
       "\n",
       "    .dataframe tbody tr th {\n",
       "        vertical-align: top;\n",
       "    }\n",
       "\n",
       "    .dataframe thead th {\n",
       "        text-align: right;\n",
       "    }\n",
       "</style>\n",
       "<table border=\"1\" class=\"dataframe\">\n",
       "  <thead>\n",
       "    <tr style=\"text-align: right;\">\n",
       "      <th></th>\n",
       "      <th>date</th>\n",
       "      <th>open</th>\n",
       "      <th>high</th>\n",
       "      <th>low</th>\n",
       "      <th>close</th>\n",
       "      <th>volume</th>\n",
       "    </tr>\n",
       "  </thead>\n",
       "  <tbody>\n",
       "    <tr>\n",
       "      <th>35024</th>\n",
       "      <td>2018-12-31 23:00:00</td>\n",
       "      <td>3829.2</td>\n",
       "      <td>3839.9</td>\n",
       "      <td>3822.400000</td>\n",
       "      <td>3834.1</td>\n",
       "      <td>155.449818</td>\n",
       "    </tr>\n",
       "    <tr>\n",
       "      <th>35025</th>\n",
       "      <td>2018-12-31 23:30:00</td>\n",
       "      <td>3834.1</td>\n",
       "      <td>3834.1</td>\n",
       "      <td>3819.904507</td>\n",
       "      <td>3830.5</td>\n",
       "      <td>84.687002</td>\n",
       "    </tr>\n",
       "  </tbody>\n",
       "</table>\n",
       "</div>"
      ],
      "text/plain": [
       "                     date    open    high          low   close      volume\n",
       "35024 2018-12-31 23:00:00  3829.2  3839.9  3822.400000  3834.1  155.449818\n",
       "35025 2018-12-31 23:30:00  3834.1  3834.1  3819.904507  3830.5   84.687002"
      ]
     },
     "execution_count": 19,
     "metadata": {},
     "output_type": "execute_result"
    }
   ],
   "source": [
    "df2.tail(2)"
   ]
  },
  {
   "cell_type": "markdown",
   "metadata": {},
   "source": [
    "## Testing our plot"
   ]
  },
  {
   "cell_type": "code",
   "execution_count": 20,
   "metadata": {},
   "outputs": [],
   "source": [
    "# Creating test df window - to test our candlestick formation\n",
    "window_one = df.iloc[:15].copy()"
   ]
  },
  {
   "cell_type": "code",
   "execution_count": 21,
   "metadata": {},
   "outputs": [],
   "source": [
    "# converting dates into floats for ohcl framework\n",
    "window_one['date'] = [mdates.date2num(d) for d in window_one['date']]"
   ]
  },
  {
   "cell_type": "code",
   "execution_count": 22,
   "metadata": {},
   "outputs": [
    {
     "data": {
      "text/html": [
       "<div>\n",
       "<style scoped>\n",
       "    .dataframe tbody tr th:only-of-type {\n",
       "        vertical-align: middle;\n",
       "    }\n",
       "\n",
       "    .dataframe tbody tr th {\n",
       "        vertical-align: top;\n",
       "    }\n",
       "\n",
       "    .dataframe thead th {\n",
       "        text-align: right;\n",
       "    }\n",
       "</style>\n",
       "<table border=\"1\" class=\"dataframe\">\n",
       "  <thead>\n",
       "    <tr style=\"text-align: right;\">\n",
       "      <th></th>\n",
       "      <th>date</th>\n",
       "      <th>open</th>\n",
       "      <th>high</th>\n",
       "      <th>low</th>\n",
       "      <th>close</th>\n",
       "      <th>volume</th>\n",
       "    </tr>\n",
       "  </thead>\n",
       "  <tbody>\n",
       "    <tr>\n",
       "      <th>0</th>\n",
       "      <td>736330.208333</td>\n",
       "      <td>962.98</td>\n",
       "      <td>963.00</td>\n",
       "      <td>962.11</td>\n",
       "      <td>962.98</td>\n",
       "      <td>29.466950</td>\n",
       "    </tr>\n",
       "    <tr>\n",
       "      <th>1</th>\n",
       "      <td>736330.229167</td>\n",
       "      <td>962.90</td>\n",
       "      <td>965.20</td>\n",
       "      <td>962.56</td>\n",
       "      <td>964.88</td>\n",
       "      <td>61.575102</td>\n",
       "    </tr>\n",
       "    <tr>\n",
       "      <th>2</th>\n",
       "      <td>736330.250000</td>\n",
       "      <td>963.90</td>\n",
       "      <td>964.95</td>\n",
       "      <td>962.72</td>\n",
       "      <td>962.83</td>\n",
       "      <td>27.068546</td>\n",
       "    </tr>\n",
       "    <tr>\n",
       "      <th>3</th>\n",
       "      <td>736330.270833</td>\n",
       "      <td>963.49</td>\n",
       "      <td>967.45</td>\n",
       "      <td>963.36</td>\n",
       "      <td>967.45</td>\n",
       "      <td>78.595934</td>\n",
       "    </tr>\n",
       "    <tr>\n",
       "      <th>4</th>\n",
       "      <td>736330.291667</td>\n",
       "      <td>966.48</td>\n",
       "      <td>967.41</td>\n",
       "      <td>966.48</td>\n",
       "      <td>966.67</td>\n",
       "      <td>21.279508</td>\n",
       "    </tr>\n",
       "  </tbody>\n",
       "</table>\n",
       "</div>"
      ],
      "text/plain": [
       "            date    open    high     low   close     volume\n",
       "0  736330.208333  962.98  963.00  962.11  962.98  29.466950\n",
       "1  736330.229167  962.90  965.20  962.56  964.88  61.575102\n",
       "2  736330.250000  963.90  964.95  962.72  962.83  27.068546\n",
       "3  736330.270833  963.49  967.45  963.36  967.45  78.595934\n",
       "4  736330.291667  966.48  967.41  966.48  966.67  21.279508"
      ]
     },
     "execution_count": 22,
     "metadata": {},
     "output_type": "execute_result"
    }
   ],
   "source": [
    "window_one.head()"
   ]
  },
  {
   "cell_type": "code",
   "execution_count": 23,
   "metadata": {},
   "outputs": [],
   "source": [
    "# re-arrange and grab values\n",
    "quotes = [tuple(x) for x in window_one[['date', 'open', 'high', 'low', 'close']].values]"
   ]
  },
  {
   "cell_type": "code",
   "execution_count": 25,
   "metadata": {},
   "outputs": [
    {
     "data": {
      "image/png": "[encoded data removed]",
      "text/plain": [
       "<Figure size 432x288 with 1 Axes>"
      ]
     },
     "metadata": {},
     "output_type": "display_data"
    }
   ],
   "source": [
    "# Test plot\n",
    "fig, ax = plt.subplots()\n",
    "candlestick_ohlc(ax, quotes, width=0.013, colorup='g', colordown='r')\n",
    "\n",
    "# hiding axis\n",
    "plt.yticks([])\n",
    "plt.xticks([])\n",
    "plt.axis('off')\n",
    "\n",
    "plt.gcf().autofmt_xdate()"
   ]
  },
  {
   "cell_type": "markdown",
   "metadata": {},
   "source": [
    "# Labeling & Creating Images"
   ]
  },
  {
   "cell_type": "code",
   "execution_count": 20,
   "metadata": {},
   "outputs": [],
   "source": [
    "# converting our dates into floats for OHLC\n",
    "df1['date'] = [mdates.date2num(d) for d in df1['date']]\n",
    "df2['date'] = [mdates.date2num(d) for d in df2['date']]"
   ]
  },
  {
   "cell_type": "code",
   "execution_count": 21,
   "metadata": {},
   "outputs": [
    {
     "data": {
      "text/plain": [
       "0"
      ]
     },
     "execution_count": 21,
     "metadata": {},
     "output_type": "execute_result"
    }
   ],
   "source": [
    "gc.collect()"
   ]
  },
  {
   "cell_type": "markdown",
   "metadata": {},
   "source": [
    "### Batch One"
   ]
  },
  {
   "cell_type": "code",
   "execution_count": 29,
   "metadata": {},
   "outputs": [],
   "source": [
    "# FUNCTIONS\n",
    "\n",
    "def save_image(df, path):\n",
    "    \"\"\"\n",
    "    df: Dataframe to create images\n",
    "    path: path in which we will save the images\n",
    "    \"\"\"\n",
    "    gc.disable()\n",
    "    \n",
    "#     # instantiating \n",
    "#     start_index = 0\n",
    "#     end_index = 15\n",
    "#     label_index = 20\n",
    "#     img_index = 1\n",
    "\n",
    "    # instantiating \n",
    "    start_index = 0\n",
    "    end_index = 15   # 24 hour window\n",
    "    label_index = 21 # Target 3 hours\n",
    "    img_index = 1\n",
    "    \n",
    "    for i in tqdm(range(len(df))):\n",
    "        \n",
    "        try:\n",
    "\n",
    "            # Creating our window\n",
    "            window_df = df.iloc[start_index:end_index]\n",
    "            \n",
    "            # grabbing close of 15th day\n",
    "            day_10_close = window_df.iloc[-1]['close']\n",
    "            \n",
    "            # Calculating 3% increase\n",
    "            three_percent_increase = day_10_close + (day_10_close * 0.03)\n",
    "            \n",
    "            # Calculating 1% decrease\n",
    "            one_percent_decrease = day_10_close - (day_10_close * 0.01)\n",
    "            \n",
    "            # Converting window_df into quotes for OHCL\n",
    "            quotes = [tuple(x) for x in window_df[['date','open','high','low','close']].values]\n",
    "            \n",
    "            # Plot candlestick.\n",
    "            fig, ax = plt.subplots()\n",
    "            candlestick_ohlc(ax, quotes, width=0.013, colorup='g', colordown='r')\n",
    "\n",
    "            # hiding x, y values\n",
    "            plt.yticks([])\n",
    "            plt.xticks([])\n",
    "            plt.axis('off')\n",
    "\n",
    "            plt.gcf().autofmt_xdate()\n",
    "            \n",
    "            # Labelling \n",
    "            \n",
    "            # BUY\n",
    "            if df.iloc[label_index]['open'] >= three_percent_increase:\n",
    "                \n",
    "                # Saving buy\n",
    "                label = 'Buy'\n",
    "                plt.savefig(f'{path}/{img_index}.{label}.png', dpi=100)\n",
    "                \n",
    "                # Clearing memory\n",
    "                plt.close('all')\n",
    "                plt.clf()\n",
    "                plt.cla()\n",
    "                fig.clf()\n",
    "\n",
    "                # Increase image index\n",
    "                img_index += 1\n",
    "            \n",
    "            # SELL\n",
    "            elif df.iloc[label_index]['open'] <= one_percent_decrease:\n",
    "                \n",
    "                # Sell\n",
    "                label = 'Sell'\n",
    "                plt.savefig(f'{path}/{img_index}.{label}.png', dpi=100)\n",
    "                \n",
    "                # Clearing memory\n",
    "                plt.close('all')\n",
    "                plt.clf()\n",
    "                plt.cla()\n",
    "                fig.clf()\n",
    "\n",
    "                # Increase image index\n",
    "                img_index += 1\n",
    "                \n",
    "            # HOLD\n",
    "            else:\n",
    "                \n",
    "                # Hold\n",
    "                label = 'Hold'\n",
    "                plt.savefig(f'{path}/{img_index}.{label}.png', dpi=100)\n",
    "                \n",
    "                \n",
    "                # Clearing memory\n",
    "                plt.close('all')\n",
    "                plt.clf()\n",
    "                plt.cla()\n",
    "                fig.clf()\n",
    "\n",
    "                # Increase index\n",
    "                img_index += 1\n",
    "                \n",
    "            # Coutning up index\n",
    "            start_index += 1\n",
    "            end_index += 1\n",
    "            label_index += 1\n",
    "            \n",
    "            if i % 1000 == 0:\n",
    "                sleep(5)\n",
    "                gc.collect()\n",
    "                sleep(5)\n",
    "\n",
    "            \n",
    "        except Exception:\n",
    "            pass\n",
    "        \n",
    "        \n",
    "    # finished\n",
    "    print('Finished')\n",
    "    \n",
    "\n",
    "# Worker Function\n",
    "def worker(df_):\n",
    "    save_path = f'{os.curdir}/model_data/images_unscattered'\n",
    "    save_image(df_, save_path)"
   ]
  },
  {
   "cell_type": "code",
   "execution_count": 30,
   "metadata": {},
   "outputs": [
    {
     "name": "stderr",
     "output_type": "stream",
     "text": [
      "100%|█████████▉| 17509/17513 [43:54<00:00, 18.79it/s]   /opt/conda/envs/fastai/lib/python3.6/site-packages/matplotlib/pyplot.py:514: RuntimeWarning: More than 20 figures have been opened. Figures created through the pyplot interface (`matplotlib.pyplot.figure`) are retained until explicitly closed and may consume too much memory. (To control this warning, see the rcParam `figure.max_open_warning`).\n",
      "  max_open_warning, RuntimeWarning)\n",
      "100%|██████████| 17513/17513 [43:54<00:00,  6.65it/s]"
     ]
    },
    {
     "name": "stdout",
     "output_type": "stream",
     "text": [
      "Finished\n"
     ]
    },
    {
     "name": "stderr",
     "output_type": "stream",
     "text": [
      "\n"
     ]
    },
    {
     "data": {
      "image/png": "[encoded data removed]",
      "text/plain": [
       "<Figure size 432x288 with 1 Axes>"
      ]
     },
     "metadata": {
      "needs_background": "light"
     },
     "output_type": "display_data"
    },
    {
     "data": {
      "image/png": "[encoded data removed]",
      "text/plain": [
       "<Figure size 432x288 with 1 Axes>"
      ]
     },
     "metadata": {},
     "output_type": "display_data"
    },
    {
     "data": {
      "image/png": "[encoded data removed]",
      "text/plain": [
       "<Figure size 432x288 with 1 Axes>"
      ]
     },
     "metadata": {},
     "output_type": "display_data"
    },
    {
     "data": {
      "image/png": "[encoded data removed]",
      "text/plain": [
       "<Figure size 432x288 with 1 Axes>"
      ]
     },
     "metadata": {},
     "output_type": "display_data"
    },
    {
     "data": {
      "image/png": "[encoded data removed]",
      "text/plain": [
       "<Figure size 432x288 with 1 Axes>"
      ]
     },
     "metadata": {},
     "output_type": "display_data"
    },
    {
     "data": {
      "image/png": "[encoded data removed]",
      "text/plain": [
       "<Figure size 432x288 with 1 Axes>"
      ]
     },
     "metadata": {},
     "output_type": "display_data"
    },
    {
     "data": {
      "image/png": "[encoded data removed]",
      "text/plain": [
       "<Figure size 432x288 with 1 Axes>"
      ]
     },
     "metadata": {},
     "output_type": "display_data"
    },
    {
     "data": {
      "image/png": "[encoded data removed]",
      "text/plain": [
       "<Figure size 432x288 with 1 Axes>"
      ]
     },
     "metadata": {},
     "output_type": "display_data"
    },
    {
     "data": {
      "image/png": "[encoded data removed]",
      "text/plain": [
       "<Figure size 432x288 with 1 Axes>"
      ]
     },
     "metadata": {},
     "output_type": "display_data"
    },
    {
     "data": {
      "image/png": "[encoded data removed]",
      "text/plain": [
       "<Figure size 432x288 with 1 Axes>"
      ]
     },
     "metadata": {},
     "output_type": "display_data"
    },
    {
     "data": {
      "image/png": "[encoded data removed]",
      "text/plain": [
       "<Figure size 432x288 with 1 Axes>"
      ]
     },
     "metadata": {},
     "output_type": "display_data"
    },
    {
     "data": {
      "image/png": "[encoded data removed]",
      "text/plain": [
       "<Figure size 432x288 with 1 Axes>"
      ]
     },
     "metadata": {},
     "output_type": "display_data"
    },
    {
     "data": {
      "image/png": "[encoded data removed]",
      "text/plain": [
       "<Figure size 432x288 with 1 Axes>"
      ]
     },
     "metadata": {},
     "output_type": "display_data"
    },
    {
     "data": {
      "image/png": "[encoded data removed]",
      "text/plain": [
       "<Figure size 432x288 with 1 Axes>"
      ]
     },
     "metadata": {},
     "output_type": "display_data"
    },
    {
     "data": {
      "image/png": "[encoded data removed]",
      "text/plain": [
       "<Figure size 432x288 with 1 Axes>"
      ]
     },
     "metadata": {},
     "output_type": "display_data"
    },
    {
     "data": {
      "image/png": "[encoded data removed]",
      "text/plain": [
       "<Figure size 432x288 with 1 Axes>"
      ]
     },
     "metadata": {},
     "output_type": "display_data"
    },
    {
     "data": {
      "image/png": "[encoded data removed]",
      "text/plain": [
       "<Figure size 432x288 with 1 Axes>"
      ]
     },
     "metadata": {},
     "output_type": "display_data"
    },
    {
     "data": {
      "image/png": "[encoded data removed]",
      "text/plain": [
       "<Figure size 432x288 with 1 Axes>"
      ]
     },
     "metadata": {},
     "output_type": "display_data"
    },
    {
     "data": {
      "image/png": "[encoded data removed]",
      "text/plain": [
       "<Figure size 432x288 with 1 Axes>"
      ]
     },
     "metadata": {},
     "output_type": "display_data"
    },
    {
     "data": {
      "image/png": "[encoded data removed]",
      "text/plain": [
       "<Figure size 432x288 with 1 Axes>"
      ]
     },
     "metadata": {},
     "output_type": "display_data"
    },
    {
     "data": {
      "image/png": "[encoded data removed]",
      "text/plain": [
       "<Figure size 432x288 with 1 Axes>"
      ]
     },
     "metadata": {},
     "output_type": "display_data"
    },
    {
     "data": {
      "image/png": "[encoded data removed]",
      "text/plain": [
       "<Figure size 432x288 with 1 Axes>"
      ]
     },
     "metadata": {},
     "output_type": "display_data"
    }
   ],
   "source": [
    "# Saving images using multi-processing\n",
    "if __name__ == \"__main__\":\n",
    "    proc = mp.Process(target=worker(df1)) # our worker function with our df\n",
    "    proc.deamon = True\n",
    "    proc.start()\n",
    "    proc.join()"
   ]
  },
  {
   "cell_type": "code",
   "execution_count": null,
   "metadata": {},
   "outputs": [],
   "source": []
  },
  {
   "cell_type": "code",
   "execution_count": null,
   "metadata": {},
   "outputs": [],
   "source": []
  },
  {
   "cell_type": "markdown",
   "metadata": {},
   "source": [
    "### Batch Two"
   ]
  },
  {
   "cell_type": "code",
   "execution_count": 22,
   "metadata": {},
   "outputs": [],
   "source": [
    "# FUNCTIONS - BATCH TWO\n",
    "\n",
    "def save_image(df, path):\n",
    "    \"\"\"\n",
    "    df: Dataframe to create images\n",
    "    path: path in which we will save the images\n",
    "    \"\"\"\n",
    "    gc.disable()\n",
    "    \n",
    "#     # instantiating \n",
    "#     start_index = 0\n",
    "#     end_index = 15\n",
    "#     label_index = 20\n",
    "#     img_index = 1\n",
    "\n",
    "    # instantiating \n",
    "    start_index = 0\n",
    "    end_index = 15   # 24 hour window\n",
    "    label_index = 21 # Target 3 hours\n",
    "    img_index = len(df) + 1 # starting at the end\n",
    "    \n",
    "    for i in tqdm(range(len(df))):\n",
    "        \n",
    "        try:\n",
    "\n",
    "            # Creating our window\n",
    "            window_df = df.iloc[start_index:end_index]\n",
    "            \n",
    "            # grabbing close of 15th day\n",
    "            day_10_close = window_df.iloc[-1]['close']\n",
    "            \n",
    "            # Calculating 3% increase\n",
    "            three_percent_increase = day_10_close + (day_10_close * 0.03)\n",
    "            \n",
    "            # Calculating 1% decrease\n",
    "            one_percent_decrease = day_10_close - (day_10_close * 0.01)\n",
    "            \n",
    "            # Converting window_df into quotes for OHCL\n",
    "            quotes = [tuple(x) for x in window_df[['date','open','high','low','close']].values]\n",
    "            \n",
    "            # Plot candlestick.\n",
    "            fig, ax = plt.subplots()\n",
    "            candlestick_ohlc(ax, quotes, width=0.013, colorup='g', colordown='r')\n",
    "\n",
    "            # hiding x, y values\n",
    "            plt.yticks([])\n",
    "            plt.xticks([])\n",
    "            plt.axis('off')\n",
    "\n",
    "            plt.gcf().autofmt_xdate()\n",
    "            \n",
    "            # Labelling \n",
    "            \n",
    "            # BUY\n",
    "            if df.iloc[label_index]['open'] >= three_percent_increase:\n",
    "                \n",
    "                # Saving buy\n",
    "                label = 'Buy'\n",
    "                plt.savefig(f'{path}/{img_index}.{label}.png', dpi=100)\n",
    "                \n",
    "                # Clearing memory\n",
    "                plt.close('all')\n",
    "                plt.clf()\n",
    "                plt.cla()\n",
    "                fig.clf()\n",
    "\n",
    "                # Increase image index\n",
    "                img_index += 1\n",
    "            \n",
    "            # SELL\n",
    "            elif df.iloc[label_index]['open'] <= one_percent_decrease:\n",
    "                \n",
    "                # Sell\n",
    "                label = 'Sell'\n",
    "                plt.savefig(f'{path}/{img_index}.{label}.png', dpi=100)\n",
    "                \n",
    "                # Clearing memory\n",
    "                plt.close('all')\n",
    "                plt.clf()\n",
    "                plt.cla()\n",
    "                fig.clf()\n",
    "\n",
    "                # Increase image index\n",
    "                img_index += 1\n",
    "                \n",
    "            # HOLD\n",
    "            else:\n",
    "                \n",
    "                # Hold\n",
    "                label = 'Hold'\n",
    "                plt.savefig(f'{path}/{img_index}.{label}.png', dpi=100)\n",
    "                \n",
    "                \n",
    "                # Clearing memory\n",
    "                plt.close('all')\n",
    "                plt.clf()\n",
    "                plt.cla()\n",
    "                fig.clf()\n",
    "\n",
    "                # Increase index\n",
    "                img_index += 1\n",
    "                \n",
    "            # Coutning up index\n",
    "            start_index += 1\n",
    "            end_index += 1\n",
    "            label_index += 1\n",
    "            \n",
    "            if i % 1000 == 0:\n",
    "                sleep(5)\n",
    "                gc.collect()\n",
    "                sleep(5)\n",
    "\n",
    "            \n",
    "        except Exception:\n",
    "            pass\n",
    "        \n",
    "        \n",
    "    # finished\n",
    "    print('Finished')\n",
    "    \n",
    "\n",
    "# Worker Function\n",
    "def worker(df_):\n",
    "    save_path = f'{os.curdir}/model_data/images_unscattered'\n",
    "    save_image(df_, save_path)"
   ]
  },
  {
   "cell_type": "code",
   "execution_count": 23,
   "metadata": {},
   "outputs": [
    {
     "data": {
      "text/plain": [
       "0"
      ]
     },
     "execution_count": 23,
     "metadata": {},
     "output_type": "execute_result"
    }
   ],
   "source": [
    "gc.collect()"
   ]
  },
  {
   "cell_type": "code",
   "execution_count": null,
   "metadata": {},
   "outputs": [
    {
     "name": "stderr",
     "output_type": "stream",
     "text": [
      " 36%|███▌      | 6300/17513 [13:57<22:16,  8.39it/s]   "
     ]
    }
   ],
   "source": [
    "# Saving images using multi-processing\n",
    "if __name__ == \"__main__\":\n",
    "    proc = mp.Process(target=worker(df2)) # our worker function with our df\n",
    "    proc.deamon = True\n",
    "    proc.start()\n",
    "    proc.join()"
   ]
  },
  {
   "cell_type": "code",
   "execution_count": null,
   "metadata": {},
   "outputs": [],
   "source": []
  },
  {
   "cell_type": "code",
   "execution_count": null,
   "metadata": {},
   "outputs": [],
   "source": []
  },
  {
   "cell_type": "code",
   "execution_count": null,
   "metadata": {},
   "outputs": [],
   "source": []
  },
  {
   "cell_type": "code",
   "execution_count": null,
   "metadata": {},
   "outputs": [],
   "source": []
  },
  {
   "cell_type": "code",
   "execution_count": null,
   "metadata": {},
   "outputs": [],
   "source": []
  },
  {
   "cell_type": "code",
   "execution_count": null,
   "metadata": {},
   "outputs": [],
   "source": []
  },
  {
   "cell_type": "code",
   "execution_count": null,
   "metadata": {},
   "outputs": [],
   "source": []
  },
  {
   "cell_type": "code",
   "execution_count": null,
   "metadata": {},
   "outputs": [],
   "source": []
  },
  {
   "cell_type": "code",
   "execution_count": null,
   "metadata": {},
   "outputs": [],
   "source": []
  },
  {
   "cell_type": "code",
   "execution_count": null,
   "metadata": {},
   "outputs": [],
   "source": []
  }
 ],
 "metadata": {
  "kernelspec": {
   "display_name": "Python 3",
   "language": "python",
   "name": "python3"
  },
  "language_info": {
   "codemirror_mode": {
    "name": "ipython",
    "version": 3
   },
   "file_extension": ".py",
   "mimetype": "text/x-python",
   "name": "python",
   "nbconvert_exporter": "python",
   "pygments_lexer": "ipython3",
   "version": "3.6.7"
  }
 },
 "nbformat": 4,
 "nbformat_minor": 2
}
