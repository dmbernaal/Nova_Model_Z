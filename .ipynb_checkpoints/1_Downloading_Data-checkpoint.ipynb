{
 "cells": [
  {
   "cell_type": "markdown",
   "metadata": {},
   "source": [
    "# Downloading Data\n",
    "In this notebook we will download historical data via the Bitfinex API. We will be following this article: https://medium.com/coinmonks/how-to-get-historical-crypto-currency-data-954062d40d2d\n",
    "\n",
    "but will make some alterations for our needs. \n",
    "\n",
    "We will be mining 1 year of data with each datapoint consisting of 30min timeframes. The data will be in the format of OHLCV which we will use to then create our candlestick chart dataset. \n",
    "\n",
    "This notebook will only be for mining data, the following will be used for the creation of our images & normalization. "
   ]
  },
  {
   "cell_type": "code",
   "execution_count": 1,
   "metadata": {},
   "outputs": [],
   "source": [
    "import bitfinex\n",
    "import pandas as pd\n",
    "import time\n",
    "import datetime"
   ]
  },
  {
   "cell_type": "code",
   "execution_count": 3,
   "metadata": {},
   "outputs": [],
   "source": [
    "# Creating a function to make several calls. \n",
    "# The API limits 60 calls a minute, but I have experienced lower amount of calls get reject\n",
    "# Those we will make a single call to the API every 5 seconds\n",
    "# Each call will retrieve one-weeks worth of data "
   ]
  },
  {
   "cell_type": "code",
   "execution_count": 31,
   "metadata": {},
   "outputs": [],
   "source": [
    "def fetch_data(start, stop, symbol, interval, tick_limit, step):\n",
    "    # instantiating instance\n",
    "    api_v2 = bitfinex.bitfinex_v2.api_v2()\n",
    "    data = [] # will hold all data\n",
    "    start = start - step\n",
    "    while start < stop:\n",
    "        # time window\n",
    "        start = start + step\n",
    "        end = start + step\n",
    "        \n",
    "        # getting data\n",
    "        res = api_v2.candles(symbol=symbol, interval=interval, limit=tick_limit, start=start, end=end)\n",
    "        data.extend(res)\n",
    "        time.sleep(5) # sleeping for 5 seconds\n",
    "        \n",
    "    # returning \n",
    "    return data"
   ]
  },
  {
   "cell_type": "code",
   "execution_count": 32,
   "metadata": {},
   "outputs": [],
   "source": [
    "m30 = 60000 * 30\n",
    "h1 = m30 * 2\n",
    "d1 = h1 * 24\n",
    "w1 = d1 * 7 # our timestep in miliseconds"
   ]
  },
  {
   "cell_type": "code",
   "execution_count": 39,
   "metadata": {},
   "outputs": [],
   "source": [
    "# Setting our hyper parameters\n",
    "time_step = w1\n",
    "\n",
    "# start and end\n",
    "t_start = datetime.datetime(2019, 5, 24, 0, 0)\n",
    "t_start = time.mktime(t_start.timetuple()) * 1000\n",
    "\n",
    "t_stop = datetime.datetime(2019, 6, 23, 0, 0)\n",
    "t_stop = time.mktime(t_stop.timetuple()) * 1000\n",
    "\n",
    "pair = 'btcusd'\n",
    "bin_size = '30m'\n",
    "\n",
    "limit = w1 / m30 # limit to a week of calls"
   ]
  },
  {
   "cell_type": "code",
   "execution_count": 40,
   "metadata": {},
   "outputs": [
    {
     "name": "stdout",
     "output_type": "stream",
     "text": [
      "No keys, only access to public API functions\n"
     ]
    }
   ],
   "source": [
    "# Making our call\n",
    "pair_data = fetch_data(start=t_start, stop=t_stop, symbol=pair, interval=bin_size, tick_limit=limit, step=time_step)"
   ]
  },
  {
   "cell_type": "markdown",
   "metadata": {},
   "source": [
    "## Second Attempt"
   ]
  },
  {
   "cell_type": "code",
   "execution_count": 2,
   "metadata": {},
   "outputs": [
    {
     "name": "stdout",
     "output_type": "stream",
     "text": [
      "No keys, only access to public API functions\n"
     ]
    }
   ],
   "source": [
    "api_v2 = bitfinex.bitfinex_v2.api_v2()"
   ]
  },
  {
   "cell_type": "code",
   "execution_count": 3,
   "metadata": {},
   "outputs": [],
   "source": [
    "# # Parameters - 30 MIN\n",
    "# pair = 'btcusd'\n",
    "# bin_size = '30m'\n",
    "# limit = 5000"
   ]
  },
  {
   "cell_type": "code",
   "execution_count": 3,
   "metadata": {},
   "outputs": [],
   "source": [
    "# Parameters - 1HR \n",
    "pair = 'btcusd'\n",
    "bin_size = '1h'\n",
    "limit = 5000"
   ]
  },
  {
   "cell_type": "code",
   "execution_count": null,
   "metadata": {},
   "outputs": [],
   "source": [
    "# # Parameters - 4HR \n",
    "# pair = 'btcusd'\n",
    "# bin_size = '4h'\n",
    "# limit = 5000"
   ]
  },
  {
   "cell_type": "code",
   "execution_count": 4,
   "metadata": {},
   "outputs": [],
   "source": [
    "# one\n",
    "t_start = datetime.datetime(2017, 1, 1, 0, 0)\n",
    "t_start = time.mktime(t_start.timetuple()) * 1000\n",
    "\n",
    "t_stop = datetime.datetime(2017, 3, 1, 0, 0)\n",
    "t_stop = time.mktime(t_stop.timetuple()) * 1000\n",
    "\n",
    "seg1 = api_v2.candles(symbol=pair, interval=bin_size, limit=limit, start=t_start, end=t_stop)"
   ]
  },
  {
   "cell_type": "code",
   "execution_count": 5,
   "metadata": {},
   "outputs": [],
   "source": [
    "# two\n",
    "t_start = datetime.datetime(2017, 3, 1, 0, 0)\n",
    "t_start = time.mktime(t_start.timetuple()) * 1000\n",
    "\n",
    "t_stop = datetime.datetime(2017, 5, 1, 0, 0)\n",
    "t_stop = time.mktime(t_stop.timetuple()) * 1000\n",
    "\n",
    "seg2 = api_v2.candles(symbol=pair, interval=bin_size, limit=limit, start=t_start, end=t_stop)"
   ]
  },
  {
   "cell_type": "code",
   "execution_count": 6,
   "metadata": {},
   "outputs": [],
   "source": [
    "# three\n",
    "t_start = datetime.datetime(2017, 5, 1, 0, 0)\n",
    "t_start = time.mktime(t_start.timetuple()) * 1000\n",
    "\n",
    "t_stop = datetime.datetime(2017, 7, 1, 0, 0)\n",
    "t_stop = time.mktime(t_stop.timetuple()) * 1000\n",
    "\n",
    "seg3 = api_v2.candles(symbol=pair, interval=bin_size, limit=limit, start=t_start, end=t_stop)"
   ]
  },
  {
   "cell_type": "code",
   "execution_count": 7,
   "metadata": {},
   "outputs": [],
   "source": [
    "# four\n",
    "t_start = datetime.datetime(2017, 7, 1, 0, 0)\n",
    "t_start = time.mktime(t_start.timetuple()) * 1000\n",
    "\n",
    "t_stop = datetime.datetime(2017, 9, 1, 0, 0)\n",
    "t_stop = time.mktime(t_stop.timetuple()) * 1000\n",
    "\n",
    "seg4 = api_v2.candles(symbol=pair, interval=bin_size, limit=limit, start=t_start, end=t_stop)"
   ]
  },
  {
   "cell_type": "code",
   "execution_count": 8,
   "metadata": {},
   "outputs": [],
   "source": [
    "# five\n",
    "t_start = datetime.datetime(2017, 9, 1, 0, 0)\n",
    "t_start = time.mktime(t_start.timetuple()) * 1000\n",
    "\n",
    "t_stop = datetime.datetime(2017, 11, 1, 0, 0)\n",
    "t_stop = time.mktime(t_stop.timetuple()) * 1000\n",
    "\n",
    "seg5 = api_v2.candles(symbol=pair, interval=bin_size, limit=limit, start=t_start, end=t_stop)"
   ]
  },
  {
   "cell_type": "code",
   "execution_count": 9,
   "metadata": {},
   "outputs": [],
   "source": [
    "# six\n",
    "t_start = datetime.datetime(2017, 11, 1, 0, 0)\n",
    "t_start = time.mktime(t_start.timetuple()) * 1000\n",
    "\n",
    "t_stop = datetime.datetime(2018, 1, 1, 0, 0)\n",
    "t_stop = time.mktime(t_stop.timetuple()) * 1000\n",
    "\n",
    "seg6 = api_v2.candles(symbol=pair, interval=bin_size, limit=limit, start=t_start, end=t_stop)"
   ]
  },
  {
   "cell_type": "code",
   "execution_count": 10,
   "metadata": {},
   "outputs": [],
   "source": [
    "# seven\n",
    "t_start = datetime.datetime(2018, 1, 1, 0, 0)\n",
    "t_start = time.mktime(t_start.timetuple()) * 1000\n",
    "\n",
    "t_stop = datetime.datetime(2018, 3, 1, 0, 0)\n",
    "t_stop = time.mktime(t_stop.timetuple()) * 1000\n",
    "\n",
    "seg7 = api_v2.candles(symbol=pair, interval=bin_size, limit=limit, start=t_start, end=t_stop)"
   ]
  },
  {
   "cell_type": "code",
   "execution_count": 11,
   "metadata": {},
   "outputs": [],
   "source": [
    "# eight\n",
    "t_start = datetime.datetime(2018, 3, 1, 0, 0)\n",
    "t_start = time.mktime(t_start.timetuple()) * 1000\n",
    "\n",
    "t_stop = datetime.datetime(2018, 5, 1, 0, 0)\n",
    "t_stop = time.mktime(t_stop.timetuple()) * 1000\n",
    "\n",
    "seg8 = api_v2.candles(symbol=pair, interval=bin_size, limit=limit, start=t_start, end=t_stop)"
   ]
  },
  {
   "cell_type": "code",
   "execution_count": 12,
   "metadata": {},
   "outputs": [],
   "source": [
    "# nine\n",
    "t_start = datetime.datetime(2018, 5, 1, 0, 0)\n",
    "t_start = time.mktime(t_start.timetuple()) * 1000\n",
    "\n",
    "t_stop = datetime.datetime(2018, 7, 1, 0, 0)\n",
    "t_stop = time.mktime(t_stop.timetuple()) * 1000\n",
    "\n",
    "seg9 = api_v2.candles(symbol=pair, interval=bin_size, limit=limit, start=t_start, end=t_stop)"
   ]
  },
  {
   "cell_type": "code",
   "execution_count": 13,
   "metadata": {},
   "outputs": [],
   "source": [
    "# ten\n",
    "t_start = datetime.datetime(2018, 7, 1, 0, 0)\n",
    "t_start = time.mktime(t_start.timetuple()) * 1000\n",
    "\n",
    "t_stop = datetime.datetime(2018, 9, 1, 0, 0)\n",
    "t_stop = time.mktime(t_stop.timetuple()) * 1000\n",
    "\n",
    "seg10 = api_v2.candles(symbol=pair, interval=bin_size, limit=limit, start=t_start, end=t_stop)"
   ]
  },
  {
   "cell_type": "code",
   "execution_count": 14,
   "metadata": {},
   "outputs": [],
   "source": [
    "# 11\n",
    "t_start = datetime.datetime(2018, 9, 1, 0, 0)\n",
    "t_start = time.mktime(t_start.timetuple()) * 1000\n",
    "\n",
    "t_stop = datetime.datetime(2018, 11, 1, 0, 0)\n",
    "t_stop = time.mktime(t_stop.timetuple()) * 1000\n",
    "\n",
    "seg11 = api_v2.candles(symbol=pair, interval=bin_size, limit=limit, start=t_start, end=t_stop)"
   ]
  },
  {
   "cell_type": "code",
   "execution_count": 15,
   "metadata": {},
   "outputs": [],
   "source": [
    "# 12\n",
    "t_start = datetime.datetime(2018, 11, 1, 0, 0)\n",
    "t_start = time.mktime(t_start.timetuple()) * 1000\n",
    "\n",
    "t_stop = datetime.datetime(2019, 1, 1, 0, 0)\n",
    "t_stop = time.mktime(t_stop.timetuple()) * 1000\n",
    "\n",
    "seg12 = api_v2.candles(symbol=pair, interval=bin_size, limit=limit, start=t_start, end=t_stop)"
   ]
  },
  {
   "cell_type": "code",
   "execution_count": 16,
   "metadata": {},
   "outputs": [],
   "source": [
    "# 13\n",
    "t_start = datetime.datetime(2019, 1, 1, 0, 0)\n",
    "t_start = time.mktime(t_start.timetuple()) * 1000\n",
    "\n",
    "t_stop = datetime.datetime(2019, 3, 1, 0, 0)\n",
    "t_stop = time.mktime(t_stop.timetuple()) * 1000\n",
    "\n",
    "seg13 = api_v2.candles(symbol=pair, interval=bin_size, limit=limit, start=t_start, end=t_stop)"
   ]
  },
  {
   "cell_type": "code",
   "execution_count": 17,
   "metadata": {},
   "outputs": [],
   "source": [
    "# 14\n",
    "t_start = datetime.datetime(2019, 3, 1, 0, 0)\n",
    "t_start = time.mktime(t_start.timetuple()) * 1000\n",
    "\n",
    "t_stop = datetime.datetime(2019, 5, 1, 0, 0)\n",
    "t_stop = time.mktime(t_stop.timetuple()) * 1000\n",
    "\n",
    "seg14 = api_v2.candles(symbol=pair, interval=bin_size, limit=limit, start=t_start, end=t_stop)"
   ]
  },
  {
   "cell_type": "code",
   "execution_count": 18,
   "metadata": {},
   "outputs": [],
   "source": [
    "# 15\n",
    "t_start = datetime.datetime(2019, 5, 1, 0, 0)\n",
    "t_start = time.mktime(t_start.timetuple()) * 1000\n",
    "\n",
    "t_stop = datetime.datetime(2019, 7, 1, 0, 0)\n",
    "t_stop = time.mktime(t_stop.timetuple()) * 1000\n",
    "\n",
    "seg15 = api_v2.candles(symbol=pair, interval=bin_size, limit=limit, start=t_start, end=t_stop)"
   ]
  },
  {
   "cell_type": "code",
   "execution_count": 19,
   "metadata": {},
   "outputs": [],
   "source": [
    "# Load each into a pandas dataframe\n",
    "names = ['time', 'open', 'close', 'high', 'low', 'volume']\n",
    "\n",
    "df1 = pd.DataFrame(seg1, columns=names)\n",
    "df2 = pd.DataFrame(seg2, columns=names)\n",
    "df3 = pd.DataFrame(seg3, columns=names)\n",
    "df4 = pd.DataFrame(seg4, columns=names)\n",
    "df5 = pd.DataFrame(seg5, columns=names)\n",
    "df6 = pd.DataFrame(seg6, columns=names)\n",
    "df7 = pd.DataFrame(seg7, columns=names)\n",
    "df8 = pd.DataFrame(seg8, columns=names)\n",
    "df9 = pd.DataFrame(seg9, columns=names)\n",
    "df10 = pd.DataFrame(seg10, columns=names)\n",
    "df11 = pd.DataFrame(seg11, columns=names)\n",
    "df12 = pd.DataFrame(seg12, columns=names)\n",
    "df13 = pd.DataFrame(seg13, columns=names)\n",
    "df14 = pd.DataFrame(seg14, columns=names)"
   ]
  },
  {
   "cell_type": "code",
   "execution_count": 20,
   "metadata": {},
   "outputs": [],
   "source": [
    "# concatting all dataframes\n",
    "datastore = pd.concat([df1, df2, df3, df4, df5, df6, df7, df8, df9, df10, df11, df12, df13, df14], ignore_index=True)"
   ]
  },
  {
   "cell_type": "code",
   "execution_count": 21,
   "metadata": {},
   "outputs": [
    {
     "name": "stdout",
     "output_type": "stream",
     "text": [
      "<class 'pandas.core.frame.DataFrame'>\n",
      "RangeIndex: 20408 entries, 0 to 20407\n",
      "Data columns (total 6 columns):\n",
      "time      20408 non-null int64\n",
      "open      20408 non-null float64\n",
      "close     20408 non-null float64\n",
      "high      20408 non-null float64\n",
      "low       20408 non-null float64\n",
      "volume    20408 non-null float64\n",
      "dtypes: float64(5), int64(1)\n",
      "memory usage: 956.7 KB\n"
     ]
    }
   ],
   "source": [
    "datastore.info()"
   ]
  },
  {
   "cell_type": "code",
   "execution_count": 22,
   "metadata": {},
   "outputs": [],
   "source": [
    "# Dropping duplicates\n",
    "datastore.drop_duplicates(inplace=True)"
   ]
  },
  {
   "cell_type": "code",
   "execution_count": 23,
   "metadata": {},
   "outputs": [
    {
     "name": "stdout",
     "output_type": "stream",
     "text": [
      "<class 'pandas.core.frame.DataFrame'>\n",
      "Int64Index: 20395 entries, 0 to 20406\n",
      "Data columns (total 6 columns):\n",
      "time      20395 non-null int64\n",
      "open      20395 non-null float64\n",
      "close     20395 non-null float64\n",
      "high      20395 non-null float64\n",
      "low       20395 non-null float64\n",
      "volume    20395 non-null float64\n",
      "dtypes: float64(5), int64(1)\n",
      "memory usage: 1.1 MB\n"
     ]
    }
   ],
   "source": [
    "datastore.info()"
   ]
  },
  {
   "cell_type": "code",
   "execution_count": 24,
   "metadata": {},
   "outputs": [
    {
     "data": {
      "text/html": [
       "<div>\n",
       "<style scoped>\n",
       "    .dataframe tbody tr th:only-of-type {\n",
       "        vertical-align: middle;\n",
       "    }\n",
       "\n",
       "    .dataframe tbody tr th {\n",
       "        vertical-align: top;\n",
       "    }\n",
       "\n",
       "    .dataframe thead th {\n",
       "        text-align: right;\n",
       "    }\n",
       "</style>\n",
       "<table border=\"1\" class=\"dataframe\">\n",
       "  <thead>\n",
       "    <tr style=\"text-align: right;\">\n",
       "      <th></th>\n",
       "      <th>time</th>\n",
       "      <th>open</th>\n",
       "      <th>close</th>\n",
       "      <th>high</th>\n",
       "      <th>low</th>\n",
       "      <th>volume</th>\n",
       "    </tr>\n",
       "  </thead>\n",
       "  <tbody>\n",
       "    <tr>\n",
       "      <th>0</th>\n",
       "      <td>1488344400000</td>\n",
       "      <td>1191.9</td>\n",
       "      <td>1190.1</td>\n",
       "      <td>1192.7</td>\n",
       "      <td>1190.0</td>\n",
       "      <td>269.220376</td>\n",
       "    </tr>\n",
       "    <tr>\n",
       "      <th>1</th>\n",
       "      <td>1488340800000</td>\n",
       "      <td>1191.9</td>\n",
       "      <td>1191.9</td>\n",
       "      <td>1193.7</td>\n",
       "      <td>1190.9</td>\n",
       "      <td>123.427439</td>\n",
       "    </tr>\n",
       "    <tr>\n",
       "      <th>2</th>\n",
       "      <td>1488337200000</td>\n",
       "      <td>1191.2</td>\n",
       "      <td>1191.6</td>\n",
       "      <td>1195.1</td>\n",
       "      <td>1190.9</td>\n",
       "      <td>235.615884</td>\n",
       "    </tr>\n",
       "    <tr>\n",
       "      <th>3</th>\n",
       "      <td>1488333600000</td>\n",
       "      <td>1192.0</td>\n",
       "      <td>1191.1</td>\n",
       "      <td>1194.1</td>\n",
       "      <td>1190.0</td>\n",
       "      <td>433.826179</td>\n",
       "    </tr>\n",
       "    <tr>\n",
       "      <th>4</th>\n",
       "      <td>1488330000000</td>\n",
       "      <td>1188.9</td>\n",
       "      <td>1192.1</td>\n",
       "      <td>1192.2</td>\n",
       "      <td>1188.1</td>\n",
       "      <td>515.103091</td>\n",
       "    </tr>\n",
       "  </tbody>\n",
       "</table>\n",
       "</div>"
      ],
      "text/plain": [
       "            time    open   close    high     low      volume\n",
       "0  1488344400000  1191.9  1190.1  1192.7  1190.0  269.220376\n",
       "1  1488340800000  1191.9  1191.9  1193.7  1190.9  123.427439\n",
       "2  1488337200000  1191.2  1191.6  1195.1  1190.9  235.615884\n",
       "3  1488333600000  1192.0  1191.1  1194.1  1190.0  433.826179\n",
       "4  1488330000000  1188.9  1192.1  1192.2  1188.1  515.103091"
      ]
     },
     "execution_count": 24,
     "metadata": {},
     "output_type": "execute_result"
    }
   ],
   "source": [
    "datastore.head()"
   ]
  },
  {
   "cell_type": "code",
   "execution_count": 25,
   "metadata": {},
   "outputs": [],
   "source": [
    "# Set index as time and sort asscendingly\n",
    "datastore['time'] = pd.to_datetime(datastore['time'], unit='ms')\n",
    "datastore.set_index('time', inplace=True)\n",
    "datastore.sort_index(inplace=True)\n",
    "datastore.reset_index(inplace=True)"
   ]
  },
  {
   "cell_type": "code",
   "execution_count": 26,
   "metadata": {},
   "outputs": [
    {
     "data": {
      "text/html": [
       "<div>\n",
       "<style scoped>\n",
       "    .dataframe tbody tr th:only-of-type {\n",
       "        vertical-align: middle;\n",
       "    }\n",
       "\n",
       "    .dataframe tbody tr th {\n",
       "        vertical-align: top;\n",
       "    }\n",
       "\n",
       "    .dataframe thead th {\n",
       "        text-align: right;\n",
       "    }\n",
       "</style>\n",
       "<table border=\"1\" class=\"dataframe\">\n",
       "  <thead>\n",
       "    <tr style=\"text-align: right;\">\n",
       "      <th></th>\n",
       "      <th>time</th>\n",
       "      <th>open</th>\n",
       "      <th>close</th>\n",
       "      <th>high</th>\n",
       "      <th>low</th>\n",
       "      <th>volume</th>\n",
       "    </tr>\n",
       "  </thead>\n",
       "  <tbody>\n",
       "    <tr>\n",
       "      <th>0</th>\n",
       "      <td>2017-01-01 05:00:00</td>\n",
       "      <td>962.98</td>\n",
       "      <td>964.88</td>\n",
       "      <td>965.20</td>\n",
       "      <td>962.11</td>\n",
       "      <td>91.042053</td>\n",
       "    </tr>\n",
       "    <tr>\n",
       "      <th>1</th>\n",
       "      <td>2017-01-01 06:00:00</td>\n",
       "      <td>963.90</td>\n",
       "      <td>967.45</td>\n",
       "      <td>967.45</td>\n",
       "      <td>962.72</td>\n",
       "      <td>105.664480</td>\n",
       "    </tr>\n",
       "    <tr>\n",
       "      <th>2</th>\n",
       "      <td>2017-01-01 07:00:00</td>\n",
       "      <td>966.48</td>\n",
       "      <td>965.81</td>\n",
       "      <td>967.41</td>\n",
       "      <td>965.80</td>\n",
       "      <td>27.489011</td>\n",
       "    </tr>\n",
       "    <tr>\n",
       "      <th>3</th>\n",
       "      <td>2017-01-01 08:00:00</td>\n",
       "      <td>965.81</td>\n",
       "      <td>965.46</td>\n",
       "      <td>965.86</td>\n",
       "      <td>962.60</td>\n",
       "      <td>149.617696</td>\n",
       "    </tr>\n",
       "    <tr>\n",
       "      <th>4</th>\n",
       "      <td>2017-01-01 09:00:00</td>\n",
       "      <td>965.41</td>\n",
       "      <td>965.98</td>\n",
       "      <td>966.57</td>\n",
       "      <td>965.37</td>\n",
       "      <td>32.288503</td>\n",
       "    </tr>\n",
       "  </tbody>\n",
       "</table>\n",
       "</div>"
      ],
      "text/plain": [
       "                 time    open   close    high     low      volume\n",
       "0 2017-01-01 05:00:00  962.98  964.88  965.20  962.11   91.042053\n",
       "1 2017-01-01 06:00:00  963.90  967.45  967.45  962.72  105.664480\n",
       "2 2017-01-01 07:00:00  966.48  965.81  967.41  965.80   27.489011\n",
       "3 2017-01-01 08:00:00  965.81  965.46  965.86  962.60  149.617696\n",
       "4 2017-01-01 09:00:00  965.41  965.98  966.57  965.37   32.288503"
      ]
     },
     "execution_count": 26,
     "metadata": {},
     "output_type": "execute_result"
    }
   ],
   "source": [
    "# let's check if it works\n",
    "datastore.head()"
   ]
  },
  {
   "cell_type": "code",
   "execution_count": 27,
   "metadata": {},
   "outputs": [
    {
     "data": {
      "text/html": [
       "<div>\n",
       "<style scoped>\n",
       "    .dataframe tbody tr th:only-of-type {\n",
       "        vertical-align: middle;\n",
       "    }\n",
       "\n",
       "    .dataframe tbody tr th {\n",
       "        vertical-align: top;\n",
       "    }\n",
       "\n",
       "    .dataframe thead th {\n",
       "        text-align: right;\n",
       "    }\n",
       "</style>\n",
       "<table border=\"1\" class=\"dataframe\">\n",
       "  <thead>\n",
       "    <tr style=\"text-align: right;\">\n",
       "      <th></th>\n",
       "      <th>time</th>\n",
       "      <th>open</th>\n",
       "      <th>close</th>\n",
       "      <th>high</th>\n",
       "      <th>low</th>\n",
       "      <th>volume</th>\n",
       "    </tr>\n",
       "  </thead>\n",
       "  <tbody>\n",
       "    <tr>\n",
       "      <th>20390</th>\n",
       "      <td>2019-05-01 00:00:00</td>\n",
       "      <td>5599.522730</td>\n",
       "      <td>5620.0</td>\n",
       "      <td>5655.0</td>\n",
       "      <td>5589.720065</td>\n",
       "      <td>540.429229</td>\n",
       "    </tr>\n",
       "    <tr>\n",
       "      <th>20391</th>\n",
       "      <td>2019-05-01 01:00:00</td>\n",
       "      <td>5620.411340</td>\n",
       "      <td>5619.4</td>\n",
       "      <td>5633.2</td>\n",
       "      <td>5615.597746</td>\n",
       "      <td>99.421220</td>\n",
       "    </tr>\n",
       "    <tr>\n",
       "      <th>20392</th>\n",
       "      <td>2019-05-01 02:00:00</td>\n",
       "      <td>5619.370256</td>\n",
       "      <td>5620.6</td>\n",
       "      <td>5643.0</td>\n",
       "      <td>5619.258079</td>\n",
       "      <td>374.486395</td>\n",
       "    </tr>\n",
       "    <tr>\n",
       "      <th>20393</th>\n",
       "      <td>2019-05-01 03:00:00</td>\n",
       "      <td>5622.300000</td>\n",
       "      <td>5619.1</td>\n",
       "      <td>5629.7</td>\n",
       "      <td>5591.900000</td>\n",
       "      <td>280.237526</td>\n",
       "    </tr>\n",
       "    <tr>\n",
       "      <th>20394</th>\n",
       "      <td>2019-05-01 04:00:00</td>\n",
       "      <td>5619.100000</td>\n",
       "      <td>5624.9</td>\n",
       "      <td>5625.1</td>\n",
       "      <td>5615.700000</td>\n",
       "      <td>234.429850</td>\n",
       "    </tr>\n",
       "  </tbody>\n",
       "</table>\n",
       "</div>"
      ],
      "text/plain": [
       "                     time         open   close    high          low  \\\n",
       "20390 2019-05-01 00:00:00  5599.522730  5620.0  5655.0  5589.720065   \n",
       "20391 2019-05-01 01:00:00  5620.411340  5619.4  5633.2  5615.597746   \n",
       "20392 2019-05-01 02:00:00  5619.370256  5620.6  5643.0  5619.258079   \n",
       "20393 2019-05-01 03:00:00  5622.300000  5619.1  5629.7  5591.900000   \n",
       "20394 2019-05-01 04:00:00  5619.100000  5624.9  5625.1  5615.700000   \n",
       "\n",
       "           volume  \n",
       "20390  540.429229  \n",
       "20391   99.421220  \n",
       "20392  374.486395  \n",
       "20393  280.237526  \n",
       "20394  234.429850  "
      ]
     },
     "execution_count": 27,
     "metadata": {},
     "output_type": "execute_result"
    }
   ],
   "source": [
    "datastore.tail()"
   ]
  },
  {
   "cell_type": "code",
   "execution_count": 28,
   "metadata": {},
   "outputs": [],
   "source": [
    "# Eveyrthing looks good, let's save it! \n",
    "import os"
   ]
  },
  {
   "cell_type": "code",
   "execution_count": 29,
   "metadata": {},
   "outputs": [],
   "source": [
    "file_name = 'btcusd_ohlc_2017_2019_1H.csv'\n",
    "path = './post_processing/'\n",
    "\n",
    "datastore.to_csv(f'{path}/{file_name}', index=False)"
   ]
  },
  {
   "cell_type": "code",
   "execution_count": null,
   "metadata": {},
   "outputs": [],
   "source": []
  },
  {
   "cell_type": "code",
   "execution_count": null,
   "metadata": {},
   "outputs": [],
   "source": []
  },
  {
   "cell_type": "code",
   "execution_count": null,
   "metadata": {},
   "outputs": [],
   "source": []
  },
  {
   "cell_type": "code",
   "execution_count": null,
   "metadata": {},
   "outputs": [],
   "source": []
  },
  {
   "cell_type": "code",
   "execution_count": null,
   "metadata": {},
   "outputs": [],
   "source": []
  },
  {
   "cell_type": "code",
   "execution_count": null,
   "metadata": {},
   "outputs": [],
   "source": []
  },
  {
   "cell_type": "code",
   "execution_count": null,
   "metadata": {},
   "outputs": [],
   "source": []
  },
  {
   "cell_type": "code",
   "execution_count": null,
   "metadata": {},
   "outputs": [],
   "source": []
  },
  {
   "cell_type": "code",
   "execution_count": null,
   "metadata": {},
   "outputs": [],
   "source": []
  },
  {
   "cell_type": "code",
   "execution_count": null,
   "metadata": {},
   "outputs": [],
   "source": []
  },
  {
   "cell_type": "code",
   "execution_count": null,
   "metadata": {},
   "outputs": [],
   "source": []
  },
  {
   "cell_type": "code",
   "execution_count": null,
   "metadata": {},
   "outputs": [],
   "source": []
  },
  {
   "cell_type": "code",
   "execution_count": null,
   "metadata": {},
   "outputs": [],
   "source": []
  },
  {
   "cell_type": "code",
   "execution_count": null,
   "metadata": {},
   "outputs": [],
   "source": []
  },
  {
   "cell_type": "code",
   "execution_count": null,
   "metadata": {},
   "outputs": [],
   "source": []
  },
  {
   "cell_type": "code",
   "execution_count": null,
   "metadata": {},
   "outputs": [],
   "source": []
  },
  {
   "cell_type": "code",
   "execution_count": null,
   "metadata": {},
   "outputs": [],
   "source": []
  },
  {
   "cell_type": "code",
   "execution_count": null,
   "metadata": {},
   "outputs": [],
   "source": []
  },
  {
   "cell_type": "code",
   "execution_count": null,
   "metadata": {},
   "outputs": [],
   "source": []
  },
  {
   "cell_type": "code",
   "execution_count": null,
   "metadata": {},
   "outputs": [],
   "source": []
  },
  {
   "cell_type": "code",
   "execution_count": null,
   "metadata": {},
   "outputs": [],
   "source": []
  },
  {
   "cell_type": "code",
   "execution_count": null,
   "metadata": {},
   "outputs": [],
   "source": []
  }
 ],
 "metadata": {
  "kernelspec": {
   "display_name": "Python 3",
   "language": "python",
   "name": "python3"
  },
  "language_info": {
   "codemirror_mode": {
    "name": "ipython",
    "version": 3
   },
   "file_extension": ".py",
   "mimetype": "text/x-python",
   "name": "python",
   "nbconvert_exporter": "python",
   "pygments_lexer": "ipython3",
   "version": "3.6.8"
  }
 },
 "nbformat": 4,
 "nbformat_minor": 2
}
