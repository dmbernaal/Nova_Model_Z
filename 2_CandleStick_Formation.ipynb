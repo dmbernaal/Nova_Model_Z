{
 "cells": [
  {
   "cell_type": "markdown",
   "metadata": {},
   "source": [
    "# Candlestick Formation\n",
    "In this notebook, we will take the data we have farmed via Bitfinex API and will be converting our data into candle-stick formation images. \n",
    "\n",
    "The very first part of this notebook will be to test the functionality with a small subset of the data. \n",
    "\n",
    "Then we will form both a window & label algorithm which will be used to create window images labelled for our classification task. \n",
    "\n",
    "Each window will be composed of 15, 30 min intervals which will be labeled according to the 20th (5 points preceeding our window) opening price. \n",
    "\n",
    "That is: \n",
    "\n",
    "```python\n",
    "if open_of_20th > close_of_15th_by_3_percent:\n",
    "    label = 'buy'\n",
    "elif open_of_20th < close_of_15th:\n",
    "    label = 'sell'\n",
    "else:\n",
    "    label = 'hold'\n",
    "```\n",
    "\n",
    "Given the nature of BTC/USD and most cryptocurrencies, labeling with aggresive moves may be a good strategy.\n",
    "\n",
    "In fact, our labeling algorithm will greatly impact the overall trading strategy, thus we may revisit this in the future for optimization. "
   ]
  },
  {
   "cell_type": "markdown",
   "metadata": {},
   "source": [
    "## 1HR DATA"
   ]
  },
  {
   "cell_type": "code",
   "execution_count": 1,
   "metadata": {},
   "outputs": [],
   "source": [
    "from tqdm import tqdm\n",
    "import pandas as pd\n",
    "import numpy as np\n",
    "import os\n",
    "import matplotlib.pyplot as plt\n",
    "import gc\n",
    "\n",
    "from mpl_finance import candlestick_ohlc\n",
    "import matplotlib.dates as mdates\n",
    "from pandas.plotting import register_matplotlib_converters\n",
    "register_matplotlib_converters()\n",
    "\n",
    "from time import sleep\n",
    "import multiprocessing as mp"
   ]
  },
  {
   "cell_type": "code",
   "execution_count": 2,
   "metadata": {},
   "outputs": [],
   "source": [
    "# Loading our data\n",
    "file = './post_processing/btcusd_ohlc_2017_2019.csv'\n",
    "\n",
    "headers = ['date', 'open', 'close', 'high', 'low', 'volume']\n",
    "my_dtypes = {\n",
    "    'date': 'str',\n",
    "    'open': 'float',\n",
    "    'close': 'float',\n",
    "    'high': 'float',\n",
    "    'low': 'float',\n",
    "    'volume': 'float'\n",
    "}\n",
    "\n",
    "my_parse_dates = ['date']\n",
    "\n",
    "df = pd.read_csv(file, header=0, names=headers, dtype=my_dtypes, parse_dates=my_parse_dates)\n",
    "\n",
    "# Re-arranging columns for OHLC\n",
    "df = df[['date', 'open', 'high', 'low', 'close', 'volume']]"
   ]
  },
  {
   "cell_type": "code",
   "execution_count": 3,
   "metadata": {},
   "outputs": [
    {
     "data": {
      "text/html": [
       "<div>\n",
       "<style scoped>\n",
       "    .dataframe tbody tr th:only-of-type {\n",
       "        vertical-align: middle;\n",
       "    }\n",
       "\n",
       "    .dataframe tbody tr th {\n",
       "        vertical-align: top;\n",
       "    }\n",
       "\n",
       "    .dataframe thead th {\n",
       "        text-align: right;\n",
       "    }\n",
       "</style>\n",
       "<table border=\"1\" class=\"dataframe\">\n",
       "  <thead>\n",
       "    <tr style=\"text-align: right;\">\n",
       "      <th></th>\n",
       "      <th>date</th>\n",
       "      <th>open</th>\n",
       "      <th>high</th>\n",
       "      <th>low</th>\n",
       "      <th>close</th>\n",
       "      <th>volume</th>\n",
       "    </tr>\n",
       "  </thead>\n",
       "  <tbody>\n",
       "    <tr>\n",
       "      <th>0</th>\n",
       "      <td>2017-01-01 05:00:00</td>\n",
       "      <td>962.98</td>\n",
       "      <td>963.00</td>\n",
       "      <td>962.11</td>\n",
       "      <td>962.98</td>\n",
       "      <td>29.466950</td>\n",
       "    </tr>\n",
       "    <tr>\n",
       "      <th>1</th>\n",
       "      <td>2017-01-01 05:30:00</td>\n",
       "      <td>962.90</td>\n",
       "      <td>965.20</td>\n",
       "      <td>962.56</td>\n",
       "      <td>964.88</td>\n",
       "      <td>61.575102</td>\n",
       "    </tr>\n",
       "    <tr>\n",
       "      <th>2</th>\n",
       "      <td>2017-01-01 06:00:00</td>\n",
       "      <td>963.90</td>\n",
       "      <td>964.95</td>\n",
       "      <td>962.72</td>\n",
       "      <td>962.83</td>\n",
       "      <td>27.068546</td>\n",
       "    </tr>\n",
       "    <tr>\n",
       "      <th>3</th>\n",
       "      <td>2017-01-01 06:30:00</td>\n",
       "      <td>963.49</td>\n",
       "      <td>967.45</td>\n",
       "      <td>963.36</td>\n",
       "      <td>967.45</td>\n",
       "      <td>78.595934</td>\n",
       "    </tr>\n",
       "    <tr>\n",
       "      <th>4</th>\n",
       "      <td>2017-01-01 07:00:00</td>\n",
       "      <td>966.48</td>\n",
       "      <td>967.41</td>\n",
       "      <td>966.48</td>\n",
       "      <td>966.67</td>\n",
       "      <td>21.279508</td>\n",
       "    </tr>\n",
       "  </tbody>\n",
       "</table>\n",
       "</div>"
      ],
      "text/plain": [
       "                 date    open    high     low   close     volume\n",
       "0 2017-01-01 05:00:00  962.98  963.00  962.11  962.98  29.466950\n",
       "1 2017-01-01 05:30:00  962.90  965.20  962.56  964.88  61.575102\n",
       "2 2017-01-01 06:00:00  963.90  964.95  962.72  962.83  27.068546\n",
       "3 2017-01-01 06:30:00  963.49  967.45  963.36  967.45  78.595934\n",
       "4 2017-01-01 07:00:00  966.48  967.41  966.48  966.67  21.279508"
      ]
     },
     "execution_count": 3,
     "metadata": {},
     "output_type": "execute_result"
    }
   ],
   "source": [
    "df.head()"
   ]
  },
  {
   "cell_type": "code",
   "execution_count": 4,
   "metadata": {},
   "outputs": [
    {
     "name": "stdout",
     "output_type": "stream",
     "text": [
      "<class 'pandas.core.frame.DataFrame'>\n",
      "RangeIndex: 40784 entries, 0 to 40783\n",
      "Data columns (total 6 columns):\n",
      "date      40784 non-null datetime64[ns]\n",
      "open      40784 non-null float64\n",
      "high      40784 non-null float64\n",
      "low       40784 non-null float64\n",
      "close     40784 non-null float64\n",
      "volume    40784 non-null float64\n",
      "dtypes: datetime64[ns](1), float64(5)\n",
      "memory usage: 1.9 MB\n"
     ]
    }
   ],
   "source": [
    "df.info()"
   ]
  },
  {
   "cell_type": "code",
   "execution_count": 5,
   "metadata": {},
   "outputs": [],
   "source": [
    "# CREATING SMALL SUBSET - given constraints of our machine, we will cut this down to 12,000 rows \n",
    "df = df.iloc[:12000]"
   ]
  },
  {
   "cell_type": "code",
   "execution_count": 6,
   "metadata": {},
   "outputs": [
    {
     "name": "stdout",
     "output_type": "stream",
     "text": [
      "<class 'pandas.core.frame.DataFrame'>\n",
      "RangeIndex: 12000 entries, 0 to 11999\n",
      "Data columns (total 6 columns):\n",
      "date      12000 non-null datetime64[ns]\n",
      "open      12000 non-null float64\n",
      "high      12000 non-null float64\n",
      "low       12000 non-null float64\n",
      "close     12000 non-null float64\n",
      "volume    12000 non-null float64\n",
      "dtypes: datetime64[ns](1), float64(5)\n",
      "memory usage: 562.6 KB\n"
     ]
    }
   ],
   "source": [
    "df.info()"
   ]
  },
  {
   "cell_type": "code",
   "execution_count": 7,
   "metadata": {},
   "outputs": [
    {
     "data": {
      "text/html": [
       "<div>\n",
       "<style scoped>\n",
       "    .dataframe tbody tr th:only-of-type {\n",
       "        vertical-align: middle;\n",
       "    }\n",
       "\n",
       "    .dataframe tbody tr th {\n",
       "        vertical-align: top;\n",
       "    }\n",
       "\n",
       "    .dataframe thead th {\n",
       "        text-align: right;\n",
       "    }\n",
       "</style>\n",
       "<table border=\"1\" class=\"dataframe\">\n",
       "  <thead>\n",
       "    <tr style=\"text-align: right;\">\n",
       "      <th></th>\n",
       "      <th>date</th>\n",
       "      <th>open</th>\n",
       "      <th>high</th>\n",
       "      <th>low</th>\n",
       "      <th>close</th>\n",
       "      <th>volume</th>\n",
       "    </tr>\n",
       "  </thead>\n",
       "  <tbody>\n",
       "    <tr>\n",
       "      <th>0</th>\n",
       "      <td>2017-01-01 05:00:00</td>\n",
       "      <td>962.98</td>\n",
       "      <td>963.00</td>\n",
       "      <td>962.11</td>\n",
       "      <td>962.98</td>\n",
       "      <td>29.466950</td>\n",
       "    </tr>\n",
       "    <tr>\n",
       "      <th>1</th>\n",
       "      <td>2017-01-01 05:30:00</td>\n",
       "      <td>962.90</td>\n",
       "      <td>965.20</td>\n",
       "      <td>962.56</td>\n",
       "      <td>964.88</td>\n",
       "      <td>61.575102</td>\n",
       "    </tr>\n",
       "    <tr>\n",
       "      <th>2</th>\n",
       "      <td>2017-01-01 06:00:00</td>\n",
       "      <td>963.90</td>\n",
       "      <td>964.95</td>\n",
       "      <td>962.72</td>\n",
       "      <td>962.83</td>\n",
       "      <td>27.068546</td>\n",
       "    </tr>\n",
       "    <tr>\n",
       "      <th>3</th>\n",
       "      <td>2017-01-01 06:30:00</td>\n",
       "      <td>963.49</td>\n",
       "      <td>967.45</td>\n",
       "      <td>963.36</td>\n",
       "      <td>967.45</td>\n",
       "      <td>78.595934</td>\n",
       "    </tr>\n",
       "    <tr>\n",
       "      <th>4</th>\n",
       "      <td>2017-01-01 07:00:00</td>\n",
       "      <td>966.48</td>\n",
       "      <td>967.41</td>\n",
       "      <td>966.48</td>\n",
       "      <td>966.67</td>\n",
       "      <td>21.279508</td>\n",
       "    </tr>\n",
       "  </tbody>\n",
       "</table>\n",
       "</div>"
      ],
      "text/plain": [
       "                 date    open    high     low   close     volume\n",
       "0 2017-01-01 05:00:00  962.98  963.00  962.11  962.98  29.466950\n",
       "1 2017-01-01 05:30:00  962.90  965.20  962.56  964.88  61.575102\n",
       "2 2017-01-01 06:00:00  963.90  964.95  962.72  962.83  27.068546\n",
       "3 2017-01-01 06:30:00  963.49  967.45  963.36  967.45  78.595934\n",
       "4 2017-01-01 07:00:00  966.48  967.41  966.48  966.67  21.279508"
      ]
     },
     "execution_count": 7,
     "metadata": {},
     "output_type": "execute_result"
    }
   ],
   "source": [
    "df.head()"
   ]
  },
  {
   "cell_type": "code",
   "execution_count": 8,
   "metadata": {},
   "outputs": [
    {
     "data": {
      "text/html": [
       "<div>\n",
       "<style scoped>\n",
       "    .dataframe tbody tr th:only-of-type {\n",
       "        vertical-align: middle;\n",
       "    }\n",
       "\n",
       "    .dataframe tbody tr th {\n",
       "        vertical-align: top;\n",
       "    }\n",
       "\n",
       "    .dataframe thead th {\n",
       "        text-align: right;\n",
       "    }\n",
       "</style>\n",
       "<table border=\"1\" class=\"dataframe\">\n",
       "  <thead>\n",
       "    <tr style=\"text-align: right;\">\n",
       "      <th></th>\n",
       "      <th>date</th>\n",
       "      <th>open</th>\n",
       "      <th>high</th>\n",
       "      <th>low</th>\n",
       "      <th>close</th>\n",
       "      <th>volume</th>\n",
       "    </tr>\n",
       "  </thead>\n",
       "  <tbody>\n",
       "    <tr>\n",
       "      <th>11995</th>\n",
       "      <td>2017-09-08 03:00:00</td>\n",
       "      <td>4598.5</td>\n",
       "      <td>4604.0</td>\n",
       "      <td>4591.6</td>\n",
       "      <td>4603.9</td>\n",
       "      <td>172.298897</td>\n",
       "    </tr>\n",
       "    <tr>\n",
       "      <th>11996</th>\n",
       "      <td>2017-09-08 03:30:00</td>\n",
       "      <td>4604.0</td>\n",
       "      <td>4604.0</td>\n",
       "      <td>4591.2</td>\n",
       "      <td>4597.6</td>\n",
       "      <td>207.746482</td>\n",
       "    </tr>\n",
       "    <tr>\n",
       "      <th>11997</th>\n",
       "      <td>2017-09-08 04:00:00</td>\n",
       "      <td>4597.4</td>\n",
       "      <td>4604.0</td>\n",
       "      <td>4597.4</td>\n",
       "      <td>4603.9</td>\n",
       "      <td>204.296908</td>\n",
       "    </tr>\n",
       "    <tr>\n",
       "      <th>11998</th>\n",
       "      <td>2017-09-08 04:30:00</td>\n",
       "      <td>4604.0</td>\n",
       "      <td>4604.0</td>\n",
       "      <td>4564.1</td>\n",
       "      <td>4569.0</td>\n",
       "      <td>336.218156</td>\n",
       "    </tr>\n",
       "    <tr>\n",
       "      <th>11999</th>\n",
       "      <td>2017-09-08 05:00:00</td>\n",
       "      <td>4568.9</td>\n",
       "      <td>4589.6</td>\n",
       "      <td>4568.9</td>\n",
       "      <td>4588.0</td>\n",
       "      <td>157.140020</td>\n",
       "    </tr>\n",
       "  </tbody>\n",
       "</table>\n",
       "</div>"
      ],
      "text/plain": [
       "                     date    open    high     low   close      volume\n",
       "11995 2017-09-08 03:00:00  4598.5  4604.0  4591.6  4603.9  172.298897\n",
       "11996 2017-09-08 03:30:00  4604.0  4604.0  4591.2  4597.6  207.746482\n",
       "11997 2017-09-08 04:00:00  4597.4  4604.0  4597.4  4603.9  204.296908\n",
       "11998 2017-09-08 04:30:00  4604.0  4604.0  4564.1  4569.0  336.218156\n",
       "11999 2017-09-08 05:00:00  4568.9  4589.6  4568.9  4588.0  157.140020"
      ]
     },
     "execution_count": 8,
     "metadata": {},
     "output_type": "execute_result"
    }
   ],
   "source": [
    "df.tail()"
   ]
  },
  {
   "cell_type": "code",
   "execution_count": 9,
   "metadata": {},
   "outputs": [],
   "source": [
    "# Creating test df window - to test our candlestick formation\n",
    "window_one = df.iloc[:10].copy()"
   ]
  },
  {
   "cell_type": "code",
   "execution_count": 10,
   "metadata": {},
   "outputs": [],
   "source": [
    "# converting dates into floats for ohcl framework\n",
    "window_one['date'] = [mdates.date2num(d) for d in window_one['date']]"
   ]
  },
  {
   "cell_type": "code",
   "execution_count": 11,
   "metadata": {},
   "outputs": [
    {
     "data": {
      "text/html": [
       "<div>\n",
       "<style scoped>\n",
       "    .dataframe tbody tr th:only-of-type {\n",
       "        vertical-align: middle;\n",
       "    }\n",
       "\n",
       "    .dataframe tbody tr th {\n",
       "        vertical-align: top;\n",
       "    }\n",
       "\n",
       "    .dataframe thead th {\n",
       "        text-align: right;\n",
       "    }\n",
       "</style>\n",
       "<table border=\"1\" class=\"dataframe\">\n",
       "  <thead>\n",
       "    <tr style=\"text-align: right;\">\n",
       "      <th></th>\n",
       "      <th>date</th>\n",
       "      <th>open</th>\n",
       "      <th>high</th>\n",
       "      <th>low</th>\n",
       "      <th>close</th>\n",
       "      <th>volume</th>\n",
       "    </tr>\n",
       "  </thead>\n",
       "  <tbody>\n",
       "    <tr>\n",
       "      <th>0</th>\n",
       "      <td>736330.208333</td>\n",
       "      <td>962.98</td>\n",
       "      <td>963.00</td>\n",
       "      <td>962.11</td>\n",
       "      <td>962.98</td>\n",
       "      <td>29.466950</td>\n",
       "    </tr>\n",
       "    <tr>\n",
       "      <th>1</th>\n",
       "      <td>736330.229167</td>\n",
       "      <td>962.90</td>\n",
       "      <td>965.20</td>\n",
       "      <td>962.56</td>\n",
       "      <td>964.88</td>\n",
       "      <td>61.575102</td>\n",
       "    </tr>\n",
       "    <tr>\n",
       "      <th>2</th>\n",
       "      <td>736330.250000</td>\n",
       "      <td>963.90</td>\n",
       "      <td>964.95</td>\n",
       "      <td>962.72</td>\n",
       "      <td>962.83</td>\n",
       "      <td>27.068546</td>\n",
       "    </tr>\n",
       "    <tr>\n",
       "      <th>3</th>\n",
       "      <td>736330.270833</td>\n",
       "      <td>963.49</td>\n",
       "      <td>967.45</td>\n",
       "      <td>963.36</td>\n",
       "      <td>967.45</td>\n",
       "      <td>78.595934</td>\n",
       "    </tr>\n",
       "    <tr>\n",
       "      <th>4</th>\n",
       "      <td>736330.291667</td>\n",
       "      <td>966.48</td>\n",
       "      <td>967.41</td>\n",
       "      <td>966.48</td>\n",
       "      <td>966.67</td>\n",
       "      <td>21.279508</td>\n",
       "    </tr>\n",
       "  </tbody>\n",
       "</table>\n",
       "</div>"
      ],
      "text/plain": [
       "            date    open    high     low   close     volume\n",
       "0  736330.208333  962.98  963.00  962.11  962.98  29.466950\n",
       "1  736330.229167  962.90  965.20  962.56  964.88  61.575102\n",
       "2  736330.250000  963.90  964.95  962.72  962.83  27.068546\n",
       "3  736330.270833  963.49  967.45  963.36  967.45  78.595934\n",
       "4  736330.291667  966.48  967.41  966.48  966.67  21.279508"
      ]
     },
     "execution_count": 11,
     "metadata": {},
     "output_type": "execute_result"
    }
   ],
   "source": [
    "window_one.head()"
   ]
  },
  {
   "cell_type": "code",
   "execution_count": 12,
   "metadata": {},
   "outputs": [],
   "source": [
    "# re-arrange and grab values\n",
    "quotes = [tuple(x) for x in window_one[['date', 'open', 'high', 'low', 'close']].values]"
   ]
  },
  {
   "cell_type": "code",
   "execution_count": 13,
   "metadata": {},
   "outputs": [
    {
     "data": {
      "image/png": "[encoded data removed]",
      "text/plain": [
       "<Figure size 432x288 with 1 Axes>"
      ]
     },
     "metadata": {},
     "output_type": "display_data"
    }
   ],
   "source": [
    "# Test plot\n",
    "fig, ax = plt.subplots()\n",
    "candlestick_ohlc(ax, quotes, width=0.013, colorup='g', colordown='r')\n",
    "\n",
    "# hiding axis\n",
    "plt.yticks([])\n",
    "plt.xticks([])\n",
    "plt.axis('off')\n",
    "\n",
    "plt.gcf().autofmt_xdate()"
   ]
  },
  {
   "cell_type": "markdown",
   "metadata": {},
   "source": [
    "# Labeling & Creating Images"
   ]
  },
  {
   "cell_type": "code",
   "execution_count": 9,
   "metadata": {},
   "outputs": [],
   "source": [
    "# FUNCTIONS\n",
    "\n",
    "def save_image(df, path):\n",
    "    \"\"\"\n",
    "    df: Dataframe to create images\n",
    "    path: path in which we will save the images\n",
    "    \"\"\"\n",
    "    gc.disable()\n",
    "    \n",
    "#     # instantiating \n",
    "#     start_index = 0\n",
    "#     end_index = 15\n",
    "#     label_index = 20\n",
    "#     img_index = 1\n",
    "\n",
    "    # instantiating \n",
    "    start_index = 0\n",
    "    end_index = 10   # 24 hour window\n",
    "    label_index = 16 # Target 3 hours\n",
    "    img_index = 1\n",
    "    \n",
    "    for i in tqdm(range(len(df))):\n",
    "        \n",
    "        try:\n",
    "\n",
    "            # Creating our window\n",
    "            window_df = df.iloc[start_index:end_index]\n",
    "            \n",
    "            # grabbing close of 15th day\n",
    "            day_10_close = window_df.iloc[-1]['close']\n",
    "            \n",
    "            # Calculating 3% increase\n",
    "            three_percent_increase = day_10_close + (day_10_close * 0.03)\n",
    "            \n",
    "            # Calculating 1% decrease\n",
    "            one_percent_decrease = day_10_close - (day_10_close * 0.01)\n",
    "            \n",
    "            # Converting window_df into quotes for OHCL\n",
    "            quotes = [tuple(x) for x in window_df[['date','open','high','low','close']].values]\n",
    "            \n",
    "            # Plot candlestick.\n",
    "            fig, ax = plt.subplots()\n",
    "            candlestick_ohlc(ax, quotes, width=0.013, colorup='g', colordown='r')\n",
    "\n",
    "            # hiding x, y values\n",
    "            plt.yticks([])\n",
    "            plt.xticks([])\n",
    "            plt.axis('off')\n",
    "\n",
    "            plt.gcf().autofmt_xdate()\n",
    "            \n",
    "            # Labelling \n",
    "            \n",
    "            # BUY\n",
    "            if df.iloc[label_index]['open'] >= three_percent_increase:\n",
    "                \n",
    "                # Saving buy\n",
    "                label = 'Buy'\n",
    "                plt.savefig(f'{path}/{img_index}.{label}.png', dpi=100)\n",
    "                \n",
    "                # Clearing memory\n",
    "                plt.close('all')\n",
    "                plt.clf()\n",
    "                plt.cla()\n",
    "                fig.clf()\n",
    "\n",
    "                # Increase image index\n",
    "                img_index += 1\n",
    "            \n",
    "            # SELL\n",
    "            elif df.iloc[label_index]['open'] <= one_percent_decrease:\n",
    "                \n",
    "                # Sell\n",
    "                label = 'Sell'\n",
    "                plt.savefig(f'{path}/{img_index}.{label}.png', dpi=100)\n",
    "                \n",
    "                # Clearing memory\n",
    "                plt.close('all')\n",
    "                plt.clf()\n",
    "                plt.cla()\n",
    "                fig.clf()\n",
    "\n",
    "                # Increase image index\n",
    "                img_index += 1\n",
    "                \n",
    "            # HOLD\n",
    "            else:\n",
    "                \n",
    "                # Hold\n",
    "                label = 'Hold'\n",
    "                plt.savefig(f'{path}/{img_index}.{label}.png', dpi=100)\n",
    "                \n",
    "                \n",
    "                # Clearing memory\n",
    "                plt.close('all')\n",
    "                plt.clf()\n",
    "                plt.cla()\n",
    "                fig.clf()\n",
    "\n",
    "                # Increase index\n",
    "                img_index += 1\n",
    "                \n",
    "            # Coutning up index\n",
    "            start_index += 1\n",
    "            end_index += 1\n",
    "            label_index += 1\n",
    "            \n",
    "            if i % 1000 == 0:\n",
    "                sleep(5)\n",
    "                gc.collect()\n",
    "                sleep(5)\n",
    "\n",
    "            \n",
    "        except Exception:\n",
    "            pass\n",
    "        \n",
    "        \n",
    "    # finished\n",
    "    print('Finished')\n",
    "    \n",
    "\n",
    "# Worker Function\n",
    "def worker(df_):\n",
    "    save_path = f'{os.curdir}/model_data/images_unscattered'\n",
    "    save_image(df_, save_path)"
   ]
  },
  {
   "cell_type": "code",
   "execution_count": 10,
   "metadata": {},
   "outputs": [],
   "source": [
    "# converting our dates into floats for OHLC\n",
    "df['date'] = [mdates.date2num(d) for d in df['date']]"
   ]
  },
  {
   "cell_type": "code",
   "execution_count": 11,
   "metadata": {},
   "outputs": [
    {
     "data": {
      "text/plain": [
       "0"
      ]
     },
     "execution_count": 11,
     "metadata": {},
     "output_type": "execute_result"
    }
   ],
   "source": [
    "# Clearing some memory\n",
    "gc.collect()"
   ]
  },
  {
   "cell_type": "code",
   "execution_count": 12,
   "metadata": {},
   "outputs": [
    {
     "name": "stderr",
     "output_type": "stream",
     "text": [
      "100%|██████████| 12000/12000 [24:15<00:00,  8.24it/s]  "
     ]
    },
    {
     "name": "stdout",
     "output_type": "stream",
     "text": [
      "Finished\n"
     ]
    },
    {
     "name": "stderr",
     "output_type": "stream",
     "text": [
      "\n"
     ]
    },
    {
     "data": {
      "image/png": "[encoded data removed]",
      "text/plain": [
       "<Figure size 432x288 with 1 Axes>"
      ]
     },
     "metadata": {
      "needs_background": "light"
     },
     "output_type": "display_data"
    },
    {
     "data": {
      "image/png": "[encoded data removed]",
      "text/plain": [
       "<Figure size 432x288 with 1 Axes>"
      ]
     },
     "metadata": {},
     "output_type": "display_data"
    },
    {
     "data": {
      "image/png": "[encoded data removed]",
      "text/plain": [
       "<Figure size 432x288 with 1 Axes>"
      ]
     },
     "metadata": {},
     "output_type": "display_data"
    },
    {
     "data": {
      "image/png": "[encoded data removed]",
      "text/plain": [
       "<Figure size 432x288 with 1 Axes>"
      ]
     },
     "metadata": {},
     "output_type": "display_data"
    },
    {
     "data": {
      "image/png": "[encoded data removed]",
      "text/plain": [
       "<Figure size 432x288 with 1 Axes>"
      ]
     },
     "metadata": {},
     "output_type": "display_data"
    },
    {
     "data": {
      "image/png": "[encoded data removed]",
      "text/plain": [
       "<Figure size 432x288 with 1 Axes>"
      ]
     },
     "metadata": {},
     "output_type": "display_data"
    },
    {
     "data": {
      "image/png": "[encoded data removed]",
      "text/plain": [
       "<Figure size 432x288 with 1 Axes>"
      ]
     },
     "metadata": {},
     "output_type": "display_data"
    },
    {
     "data": {
      "image/png": "[encoded data removed]",
      "text/plain": [
       "<Figure size 432x288 with 1 Axes>"
      ]
     },
     "metadata": {},
     "output_type": "display_data"
    },
    {
     "data": {
      "image/png": "[encoded data removed]",
      "text/plain": [
       "<Figure size 432x288 with 1 Axes>"
      ]
     },
     "metadata": {},
     "output_type": "display_data"
    },
    {
     "data": {
      "image/png": "[encoded data removed]",
      "text/plain": [
       "<Figure size 432x288 with 1 Axes>"
      ]
     },
     "metadata": {},
     "output_type": "display_data"
    },
    {
     "data": {
      "image/png": "[encoded data removed]",
      "text/plain": [
       "<Figure size 432x288 with 1 Axes>"
      ]
     },
     "metadata": {},
     "output_type": "display_data"
    },
    {
     "data": {
      "image/png": "[encoded data removed]",
      "text/plain": [
       "<Figure size 432x288 with 1 Axes>"
      ]
     },
     "metadata": {},
     "output_type": "display_data"
    },
    {
     "data": {
      "image/png": "[encoded data removed]",
      "text/plain": [
       "<Figure size 432x288 with 1 Axes>"
      ]
     },
     "metadata": {},
     "output_type": "display_data"
    },
    {
     "data": {
      "image/png": "[encoded data removed]",
      "text/plain": [
       "<Figure size 432x288 with 1 Axes>"
      ]
     },
     "metadata": {},
     "output_type": "display_data"
    },
    {
     "data": {
      "image/png": "[encoded data removed]",
      "text/plain": [
       "<Figure size 432x288 with 1 Axes>"
      ]
     },
     "metadata": {},
     "output_type": "display_data"
    },
    {
     "data": {
      "image/png": "[encoded data removed]",
      "text/plain": [
       "<Figure size 432x288 with 1 Axes>"
      ]
     },
     "metadata": {},
     "output_type": "display_data"
    },
    {
     "data": {
      "image/png": "[encoded data removed]",
      "text/plain": [
       "<Figure size 432x288 with 1 Axes>"
      ]
     },
     "metadata": {},
     "output_type": "display_data"
    }
   ],
   "source": [
    "# Saving images using multi-processing\n",
    "if __name__ == \"__main__\":\n",
    "    proc = mp.Process(target=worker(df)) # our worker function with our df\n",
    "    proc.deamon = True\n",
    "    proc.start()\n",
    "    proc.join()"
   ]
  },
  {
   "cell_type": "code",
   "execution_count": null,
   "metadata": {},
   "outputs": [],
   "source": []
  },
  {
   "cell_type": "code",
   "execution_count": 21,
   "metadata": {},
   "outputs": [
    {
     "data": {
      "text/plain": [
       "7.5"
      ]
     },
     "execution_count": 21,
     "metadata": {},
     "output_type": "execute_result"
    }
   ],
   "source": [
    "15 * 30 / 60"
   ]
  },
  {
   "cell_type": "code",
   "execution_count": 22,
   "metadata": {},
   "outputs": [
    {
     "data": {
      "text/plain": [
       "15.0"
      ]
     },
     "execution_count": 22,
     "metadata": {},
     "output_type": "execute_result"
    }
   ],
   "source": [
    "15 * 60 / 60"
   ]
  },
  {
   "cell_type": "code",
   "execution_count": null,
   "metadata": {},
   "outputs": [],
   "source": []
  },
  {
   "cell_type": "code",
   "execution_count": null,
   "metadata": {},
   "outputs": [],
   "source": []
  },
  {
   "cell_type": "code",
   "execution_count": null,
   "metadata": {},
   "outputs": [],
   "source": []
  },
  {
   "cell_type": "code",
   "execution_count": null,
   "metadata": {},
   "outputs": [],
   "source": []
  },
  {
   "cell_type": "code",
   "execution_count": null,
   "metadata": {},
   "outputs": [],
   "source": []
  },
  {
   "cell_type": "code",
   "execution_count": null,
   "metadata": {},
   "outputs": [],
   "source": []
  },
  {
   "cell_type": "code",
   "execution_count": null,
   "metadata": {},
   "outputs": [],
   "source": []
  },
  {
   "cell_type": "code",
   "execution_count": null,
   "metadata": {},
   "outputs": [],
   "source": []
  },
  {
   "cell_type": "code",
   "execution_count": null,
   "metadata": {},
   "outputs": [],
   "source": []
  },
  {
   "cell_type": "code",
   "execution_count": null,
   "metadata": {},
   "outputs": [],
   "source": []
  },
  {
   "cell_type": "code",
   "execution_count": null,
   "metadata": {},
   "outputs": [],
   "source": []
  },
  {
   "cell_type": "code",
   "execution_count": null,
   "metadata": {},
   "outputs": [],
   "source": []
  },
  {
   "cell_type": "code",
   "execution_count": null,
   "metadata": {},
   "outputs": [],
   "source": []
  }
 ],
 "metadata": {
  "kernelspec": {
   "display_name": "Python 3",
   "language": "python",
   "name": "python3"
  },
  "language_info": {
   "codemirror_mode": {
    "name": "ipython",
    "version": 3
   },
   "file_extension": ".py",
   "mimetype": "text/x-python",
   "name": "python",
   "nbconvert_exporter": "python",
   "pygments_lexer": "ipython3",
   "version": "3.6.7"
  }
 },
 "nbformat": 4,
 "nbformat_minor": 2
}
